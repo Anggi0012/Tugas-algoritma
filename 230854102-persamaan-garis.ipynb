{
 "cells": [
  {
   "cell_type": "code",
   "execution_count": 1,
   "id": "01fb0861",
   "metadata": {
    "execution": {
     "iopub.execute_input": "2024-05-21T12:44:08.375921Z",
     "iopub.status.busy": "2024-05-21T12:44:08.375066Z",
     "iopub.status.idle": "2024-05-21T12:44:08.922088Z",
     "shell.execute_reply": "2024-05-21T12:44:08.920453Z"
    },
    "papermill": {
     "duration": 0.553675,
     "end_time": "2024-05-21T12:44:08.923969",
     "exception": true,
     "start_time": "2024-05-21T12:44:08.370294",
     "status": "failed"
    },
    "tags": []
   },
   "outputs": [
    {
     "ename": "StdinNotImplementedError",
     "evalue": "raw_input was called, but this frontend does not support input requests.",
     "output_type": "error",
     "traceback": [
      "\u001b[0;31m---------------------------------------------------------------------------\u001b[0m",
      "\u001b[0;31mStdinNotImplementedError\u001b[0m                  Traceback (most recent call last)",
      "Cell \u001b[0;32mIn[1], line 21\u001b[0m\n\u001b[1;32m     19\u001b[0m     plt\u001b[38;5;241m.\u001b[39mshow()\n\u001b[1;32m     20\u001b[0m \u001b[38;5;66;03m# Memasukkan nilai gradien dan intercept\u001b[39;00m\n\u001b[0;32m---> 21\u001b[0m m \u001b[38;5;241m=\u001b[39m \u001b[38;5;28mfloat\u001b[39m(\u001b[38;5;28;43minput\u001b[39;49m\u001b[43m(\u001b[49m\u001b[38;5;124;43m\"\u001b[39;49m\u001b[38;5;124;43mMasukkan nilai gradien (m): \u001b[39;49m\u001b[38;5;124;43m\"\u001b[39;49m\u001b[43m)\u001b[49m)\n\u001b[1;32m     22\u001b[0m c \u001b[38;5;241m=\u001b[39m \u001b[38;5;28mfloat\u001b[39m(\u001b[38;5;28minput\u001b[39m(\u001b[38;5;124m\"\u001b[39m\u001b[38;5;124mMasukkan nilai intercept (c): \u001b[39m\u001b[38;5;124m\"\u001b[39m))\n\u001b[1;32m     23\u001b[0m \u001b[38;5;66;03m# Memanggil fungsi untuk menggambar garis lurus\u001b[39;00m\n",
      "File \u001b[0;32m/opt/conda/lib/python3.10/site-packages/ipykernel/kernelbase.py:1261\u001b[0m, in \u001b[0;36mKernel.raw_input\u001b[0;34m(self, prompt)\u001b[0m\n\u001b[1;32m   1259\u001b[0m \u001b[38;5;28;01mif\u001b[39;00m \u001b[38;5;129;01mnot\u001b[39;00m \u001b[38;5;28mself\u001b[39m\u001b[38;5;241m.\u001b[39m_allow_stdin:\n\u001b[1;32m   1260\u001b[0m     msg \u001b[38;5;241m=\u001b[39m \u001b[38;5;124m\"\u001b[39m\u001b[38;5;124mraw_input was called, but this frontend does not support input requests.\u001b[39m\u001b[38;5;124m\"\u001b[39m\n\u001b[0;32m-> 1261\u001b[0m     \u001b[38;5;28;01mraise\u001b[39;00m StdinNotImplementedError(msg)\n\u001b[1;32m   1262\u001b[0m \u001b[38;5;28;01mreturn\u001b[39;00m \u001b[38;5;28mself\u001b[39m\u001b[38;5;241m.\u001b[39m_input_request(\n\u001b[1;32m   1263\u001b[0m     \u001b[38;5;28mstr\u001b[39m(prompt),\n\u001b[1;32m   1264\u001b[0m     \u001b[38;5;28mself\u001b[39m\u001b[38;5;241m.\u001b[39m_parent_ident[\u001b[38;5;124m\"\u001b[39m\u001b[38;5;124mshell\u001b[39m\u001b[38;5;124m\"\u001b[39m],\n\u001b[1;32m   1265\u001b[0m     \u001b[38;5;28mself\u001b[39m\u001b[38;5;241m.\u001b[39mget_parent(\u001b[38;5;124m\"\u001b[39m\u001b[38;5;124mshell\u001b[39m\u001b[38;5;124m\"\u001b[39m),\n\u001b[1;32m   1266\u001b[0m     password\u001b[38;5;241m=\u001b[39m\u001b[38;5;28;01mFalse\u001b[39;00m,\n\u001b[1;32m   1267\u001b[0m )\n",
      "\u001b[0;31mStdinNotImplementedError\u001b[0m: raw_input was called, but this frontend does not support input requests."
     ]
    }
   ],
   "source": [
    "import matplotlib.pyplot as plt\n",
    "import numpy as np\n",
    "# Fungsi untuk menggambar garis lurus\n",
    "def plot_line(m, c):\n",
    "    # Membuat rentang nilai x\n",
    "    x_28 = np.linspace(-10, 10, 400)\n",
    "    # Menghitung nilai y berdasarkan persamaan garis lurus y = mx + c\n",
    "    y_28 = m * x_28 + c\n",
    "    # Membuat plot\n",
    "    plt.figure(figsize=(8, 6))\n",
    "    plt.plot(x_28, y_28, label=f'y_28 = {m}x_28 + {c}')\n",
    "    plt.axhline(0, color='black',linewidth=0.5)\n",
    "    plt.axvline(0, color='black',linewidth=0.5)\n",
    "    plt.grid(color = 'gray', linestyle = '--', linewidth = 0.5)\n",
    "    plt.title(f'Plot Garis Lurus: y_28 = {m}x_28 + {c}')\n",
    "    plt.xlabel('x_28')\n",
    "    plt.ylabel('y_28')\n",
    "    plt.legend()\n",
    "    plt.show()\n",
    "# Memasukkan nilai gradien dan intercept\n",
    "m = float(input(\"Masukkan nilai gradien (m): \"))\n",
    "c = float(input(\"Masukkan nilai intercept (c): \"))\n",
    "# Memanggil fungsi untuk menggambar garis lurus\n",
    "plot_line(m, c)"
   ]
  },
  {
   "cell_type": "code",
   "execution_count": null,
   "id": "d4f71fff",
   "metadata": {
    "papermill": {
     "duration": null,
     "end_time": null,
     "exception": null,
     "start_time": null,
     "status": "pending"
    },
    "tags": []
   },
   "outputs": [],
   "source": [
    "import matplotlib.pyplot as plt\n",
    "import numpy as np\n",
    "# Fungsi untuk menggambar garis lurus\n",
    "def plot_line(m, c):\n",
    "    # Membuat rentang nilai x\n",
    "    x_28 = np.linspace(-10, 10, 400)\n",
    "    # Menghitung nilai y berdasarkan persamaan garis lurus y_28 = m * x_28 + c\n",
    "    y_28 = m * x_28 + c\n",
    "    # Membuat plot\n",
    "    plt.figure(figsize=(8, 6))\n",
    "    plt.plot(x_28, y_28, label=f'y_28 = {m}x_28 + {c}')\n",
    "    plt.axhline(0, color='black', linewidth=0.5)\n",
    "    plt.axvline(0, color='black', linewidth=0.5)\n",
    "    plt.grid(color='gray', linestyle='--', linewidth=0.5)\n",
    "    plt.title(f'Plot Garis Lurus: y_28 = {m}x_28 + {c}')\n",
    "    plt.xlabel('x_28')\n",
    "    plt.ylabel('y_28')\n",
    "    plt.legend()\n",
    "    plt.show()\n",
    "# Memasukkan nilai gradien dan intercept dengan validasi input\n",
    "while True:\n",
    "    try:\n",
    "        m = float(input(\"Masukkan nilai gradien (m): \"))\n",
    "        c = float(input(\"Masukkan nilai intercept (c): \"))\n",
    "        break\n",
    "    except ValueError:\n",
    "        print(\"Input tidak valid. Harap masukkan angka.\")\n",
    "# Memanggil fungsi untuk menggambar garis lurus\n",
    "plot_line(m, c)"
   ]
  },
  {
   "cell_type": "code",
   "execution_count": null,
   "id": "ee3ad5e0",
   "metadata": {
    "papermill": {
     "duration": null,
     "end_time": null,
     "exception": null,
     "start_time": null,
     "status": "pending"
    },
    "tags": []
   },
   "outputs": [],
   "source": [
    "import numpy as np\n",
    "import matplotlib.pyplot as plt\n",
    "def plot_line(m, c, label):\n",
    "    # Membuat rentang nilai x\n",
    "    x_28 = np.linspace(-10, 10, 400)\n",
    "    # Menghitung nilai y berdasarkan persamaan garis lurus y = mx + c\n",
    "    y_28 = m * x_28 + c\n",
    "    # Menggambar garis\n",
    "    plt.plot(x_28, y_28, label=label)\n",
    "    return x_28, y_28\n",
    "def main():\n",
    "    print(\"Masukkan koefisien untuk garis pertama (y_28 = m1*x_28 + c1):\")\n",
    "    m1 = float(input(\"m1: \"))\n",
    "    c1 = float(input(\"c1: \"))\n",
    "    \n",
    "    print(\"Masukkan koefisien untuk garis kedua (y_28 = m2*x_28 + c2):\")\n",
    "    m2 = float(input(\"m2: \"))\n",
    "    c2 = float(input(\"c2: \"))\n",
    "    \n",
    "    # Menggambar kedua garis\n",
    "    x1, y1 = plot_line(m1, c1, 'Garis 1 (y_28 = {}x_28 + {})'.format(m1, c1))\n",
    "    x2, y2 = plot_line(m2, c2, 'Garis 2 (y_28 = {}x_28 + {})'.format(m2, c2))\n",
    "    \n",
    "    # Mengarsir area di antara kedua garis\n",
    "    plt.fill_between(x1, y1, y2, where=(y1 < y2), interpolate=True, color='yellow', alpha=0.5, label='Area di antara Garis')\n",
    "    plt.fill_between(x1, y1, y2, where=(y1 >= y2), interpolate=True, color='green', alpha=0.5)\n",
    "    # Mencari titik potong kedua garis\n",
    "    intersection = find_intersection(m1, c1, m2, c2)\n",
    "    \n",
    "    if isinstance(intersection, str):\n",
    "        print(intersection)\n",
    "    else:\n",
    "        print(f\"Titik potong kedua garis tersebut adalah: (x_28, y_28) = {intersection}\")\n",
    "        # Menggambar titik potong\n",
    "        plt.scatter(*intersection, color='red', zorder=5)\n",
    "        plt.annotate('Titik potong', xy=intersection, xytext=(intersection[0]+0.5, intersection[1]+0.5),\n",
    "                     arrowprops=dict(facecolor='black', shrink=0.05))\n",
    "    # Mengatur tampilan plot\n",
    "    plt.axhline(0, color='black', linewidth=0.5)\n",
    "    plt.axvline(0, color='black', linewidth=0.5)\n",
    "    plt.grid(color='gray', linestyle='--', linewidth=0.5)\n",
    "    plt.legend()\n",
    "    plt.title(\"Garis Lurus dan Titik Potong\")\n",
    "    plt.xlabel(\"x_28\")\n",
    "    plt.ylabel(\"y_28\")\n",
    "    plt.show()\n",
    "def find_intersection(m1, c1, m2, c2):\n",
    "    # Memeriksa apakah kedua garis sejajar (gradiennya sama)\n",
    "    if m1 == m2:\n",
    "        return \"Garis-garis tersebut sejajar dan tidak berpotongan.\"\n",
    "    \n",
    "    # Menghitung titik potong x\n",
    "    x_28 = (c2 - c1) / (m1 - m2)\n",
    "    # Menghitung titik potong y menggunakan salah satu persamaan garis\n",
    "    y_28 = m1 * x_28 + c1\n",
    "    \n",
    "    return (x_28, y_28)\n",
    "if __name__ == \"__main__\":\n",
    "    main()"
   ]
  }
 ],
 "metadata": {
  "kaggle": {
   "accelerator": "none",
   "dataSources": [],
   "dockerImageVersionId": 30698,
   "isGpuEnabled": false,
   "isInternetEnabled": false,
   "language": "python",
   "sourceType": "notebook"
  },
  "kernelspec": {
   "display_name": "Python 3",
   "language": "python",
   "name": "python3"
  },
  "language_info": {
   "codemirror_mode": {
    "name": "ipython",
    "version": 3
   },
   "file_extension": ".py",
   "mimetype": "text/x-python",
   "name": "python",
   "nbconvert_exporter": "python",
   "pygments_lexer": "ipython3",
   "version": "3.10.13"
  },
  "papermill": {
   "default_parameters": {},
   "duration": 4.321393,
   "end_time": "2024-05-21T12:44:09.447764",
   "environment_variables": {},
   "exception": true,
   "input_path": "__notebook__.ipynb",
   "output_path": "__notebook__.ipynb",
   "parameters": {},
   "start_time": "2024-05-21T12:44:05.126371",
   "version": "2.5.0"
  }
 },
 "nbformat": 4,
 "nbformat_minor": 5
}
