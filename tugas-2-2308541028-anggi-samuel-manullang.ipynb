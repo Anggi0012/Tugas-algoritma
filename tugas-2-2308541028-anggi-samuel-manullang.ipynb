{
 "cells": [
  {
   "cell_type": "code",
   "execution_count": 1,
   "id": "91fcef3a",
   "metadata": {
    "_cell_guid": "b1076dfc-b9ad-4769-8c92-a6c4dae69d19",
    "_uuid": "8f2839f25d086af736a60e9eeb907d3b93b6e0e5",
    "execution": {
     "iopub.execute_input": "2024-03-19T08:23:42.386819Z",
     "iopub.status.busy": "2024-03-19T08:23:42.385361Z",
     "iopub.status.idle": "2024-03-19T08:23:43.481917Z",
     "shell.execute_reply": "2024-03-19T08:23:43.480228Z"
    },
    "papermill": {
     "duration": 1.104363,
     "end_time": "2024-03-19T08:23:43.484932",
     "exception": false,
     "start_time": "2024-03-19T08:23:42.380569",
     "status": "completed"
    },
    "tags": []
   },
   "outputs": [],
   "source": [
    "# This Python 3 environment comes with many helpful analytics libraries installed\n",
    "# It is defined by the kaggle/python Docker image: https://github.com/kaggle/docker-python\n",
    "# For example, here's several helpful packages to load\n",
    "\n",
    "import numpy as np # linear algebra\n",
    "import pandas as pd # data processing, CSV file I/O (e.g. pd.read_csv)\n",
    "\n",
    "# Input data files are available in the read-only \"../input/\" directory\n",
    "# For example, running this (by clicking run or pressing Shift+Enter) will list all files under the input directory\n",
    "\n",
    "import os\n",
    "for dirname, _, filenames in os.walk('/kaggle/input'):\n",
    "    for filename in filenames:\n",
    "        print(os.path.join(dirname, filename))\n",
    "\n",
    "# You can write up to 20GB to the current directory (/kaggle/working/) that gets preserved as output when you create a version using \"Save & Run All\" \n",
    "# You can also write temporary files to /kaggle/temp/, but they won't be saved outside of the current session"
   ]
  },
  {
   "cell_type": "code",
   "execution_count": 2,
   "id": "c58ff079",
   "metadata": {
    "execution": {
     "iopub.execute_input": "2024-03-19T08:23:43.492851Z",
     "iopub.status.busy": "2024-03-19T08:23:43.492148Z",
     "iopub.status.idle": "2024-03-19T08:23:44.114603Z",
     "shell.execute_reply": "2024-03-19T08:23:44.112665Z"
    },
    "papermill": {
     "duration": 0.629434,
     "end_time": "2024-03-19T08:23:44.117053",
     "exception": true,
     "start_time": "2024-03-19T08:23:43.487619",
     "status": "failed"
    },
    "tags": []
   },
   "outputs": [
    {
     "name": "stdout",
     "output_type": "stream",
     "text": [
      "\n",
      " ----Toko Makanan Algoritma----\n"
     ]
    },
    {
     "ename": "StdinNotImplementedError",
     "evalue": "raw_input was called, but this frontend does not support input requests.",
     "output_type": "error",
     "traceback": [
      "\u001b[0;31m---------------------------------------------------------------------------\u001b[0m",
      "\u001b[0;31mStdinNotImplementedError\u001b[0m                  Traceback (most recent call last)",
      "Cell \u001b[0;32mIn[2], line 2\u001b[0m\n\u001b[1;32m      1\u001b[0m \u001b[38;5;28mprint\u001b[39m(\u001b[38;5;124m\"\u001b[39m\u001b[38;5;130;01m\\n\u001b[39;00m\u001b[38;5;124m ----Toko Makanan Algoritma----\u001b[39m\u001b[38;5;124m\"\u001b[39m)\n\u001b[0;32m----> 2\u001b[0m pembeli \u001b[38;5;241m=\u001b[39m \u001b[38;5;28;43minput\u001b[39;49m\u001b[43m(\u001b[49m\u001b[38;5;124;43m\"\u001b[39;49m\u001b[38;5;130;43;01m\\n\u001b[39;49;00m\u001b[38;5;124;43mMasukkan nama Pembeli: \u001b[39;49m\u001b[38;5;124;43m\"\u001b[39;49m\u001b[43m)\u001b[49m\n\u001b[1;32m      3\u001b[0m \u001b[38;5;28mprint\u001b[39m (\u001b[38;5;124m\"\u001b[39m\u001b[38;5;124mNama Pembeli :\u001b[39m\u001b[38;5;124m\"\u001b[39m, pembeli)\n\u001b[1;32m      4\u001b[0m \u001b[38;5;28;01mdef\u001b[39;00m \u001b[38;5;21mfungsimakanan\u001b[39m():\n",
      "File \u001b[0;32m/opt/conda/lib/python3.10/site-packages/ipykernel/kernelbase.py:1261\u001b[0m, in \u001b[0;36mKernel.raw_input\u001b[0;34m(self, prompt)\u001b[0m\n\u001b[1;32m   1259\u001b[0m \u001b[38;5;28;01mif\u001b[39;00m \u001b[38;5;129;01mnot\u001b[39;00m \u001b[38;5;28mself\u001b[39m\u001b[38;5;241m.\u001b[39m_allow_stdin:\n\u001b[1;32m   1260\u001b[0m     msg \u001b[38;5;241m=\u001b[39m \u001b[38;5;124m\"\u001b[39m\u001b[38;5;124mraw_input was called, but this frontend does not support input requests.\u001b[39m\u001b[38;5;124m\"\u001b[39m\n\u001b[0;32m-> 1261\u001b[0m     \u001b[38;5;28;01mraise\u001b[39;00m StdinNotImplementedError(msg)\n\u001b[1;32m   1262\u001b[0m \u001b[38;5;28;01mreturn\u001b[39;00m \u001b[38;5;28mself\u001b[39m\u001b[38;5;241m.\u001b[39m_input_request(\n\u001b[1;32m   1263\u001b[0m     \u001b[38;5;28mstr\u001b[39m(prompt),\n\u001b[1;32m   1264\u001b[0m     \u001b[38;5;28mself\u001b[39m\u001b[38;5;241m.\u001b[39m_parent_ident[\u001b[38;5;124m\"\u001b[39m\u001b[38;5;124mshell\u001b[39m\u001b[38;5;124m\"\u001b[39m],\n\u001b[1;32m   1265\u001b[0m     \u001b[38;5;28mself\u001b[39m\u001b[38;5;241m.\u001b[39mget_parent(\u001b[38;5;124m\"\u001b[39m\u001b[38;5;124mshell\u001b[39m\u001b[38;5;124m\"\u001b[39m),\n\u001b[1;32m   1266\u001b[0m     password\u001b[38;5;241m=\u001b[39m\u001b[38;5;28;01mFalse\u001b[39;00m,\n\u001b[1;32m   1267\u001b[0m )\n",
      "\u001b[0;31mStdinNotImplementedError\u001b[0m: raw_input was called, but this frontend does not support input requests."
     ]
    }
   ],
   "source": [
    "print(\"\\n ----Toko Makanan Algoritma----\")\n",
    "pembeli = input(\"\\nMasukkan nama Pembeli: \")\n",
    "print (\"Nama Pembeli :\", pembeli)\n",
    "def fungsimakanan():\n",
    "    global totalmkn\n",
    "    global porsi\n",
    "    global mkn\n",
    "    print (\"\\n---MENU MAKANAN----\\n\")\n",
    "    print(\"1. Bakso---- Rp. 10000\")\n",
    "    print(\"2. Mie Ayam---- Rp. 13000\")\n",
    "    print(\"3. Soto---- Rp. 12000\")\n",
    "    print(\"4. Nasi Goreng---- Rp. 15000\")\n",
    "    print(\"5. Kwetiau---- Rp. 12000\")\n",
    "    nomor= int(input(\"\\nMasukan Pilihan: \"))\n",
    "    porsi= int(input(\"Berapa Porsi: \"))\n",
    "    if nomor==1:\n",
    "        totalmkn=porsi*10000\n",
    "        print (porsi,\" porsi Bakso = Rp\", totalmkn)\n",
    "        mkn=(\"Bakso\")\n",
    "    elif nomor==2:\n",
    "        totalmkn=porsi*13000\n",
    "        print (porsi,\" porsi Bakso = Rp\", totalmkn)\n",
    "        mkn=(\"Mie Ayam\")\n",
    "    elif nomor==3: \n",
    "        totalmkn=porsi*12000\n",
    "        print (porsi,\" Soto = Rp\", totalmkn)\n",
    "        mkn=(\"Soto\")\n",
    "    elif nomor==4:\n",
    "        totalmkn=porsi*15000\n",
    "        print (porsi, \"porsi Nasi Goreng = Rp\",\n",
    "totalmkn)\n",
    "        mkn=(\"Nasi Goreng\")\n",
    "    elif nomor==5:   \n",
    "        totalmkn=porsi*12000\n",
    "        print ( prosi, \"Kwetiau = Rp\", totalmkn)\n",
    "        mkn=(\"kwetiau\")\n",
    "    else:\n",
    "        print (\"Pilihan tidak ada, silahkan masukan lagi !\")\n",
    "        fungsimakanan()\n",
    "    \n",
    "def fungsiminuman():\n",
    "    global totalmnm\n",
    "    global mnm\n",
    "    global gelas\n",
    "    print(\"\\n----MENU MINUMAN----\\n\")\n",
    "    print(\"1. Air Mineral ------ Rp 3000\") \n",
    "    print(\"2. Es Teh Manis ------ Rp 4000\") \n",
    "    print(\"3. Es Jeruk ------ Rp 7000\")\n",
    "    print(\"4. Es Kopi ------ Rp 8000\") \n",
    "    print(\"5. Es Capuccino ------ Rp 7000\") \n",
    "    nomor=int(input(\"\\nMasukan Pilihan: \")) \n",
    "    gelas=int(input(\"Berapa Gelas: \"))\n",
    "    if nomor==1:\n",
    "        totalmnm=gelas*3000\n",
    "        print (gelas,\" Air Mineral = Rp\", totalmnm) \n",
    "        mnm=(\" Air Mineral\")\n",
    "    elif nomor==2:\n",
    "        totalmnm=gelas*4000\n",
    "        print (gelas,\" Gelas Es Teh Manis = Rp\", totalmnm)\n",
    "        mnm=(\"Es Teh Manis\")\n",
    "    elif nomor==3:\n",
    "        totalmnm=gelas*7000\n",
    "        print (gelas,\" Gelas Es Jeruk = Rp\", totalmnm)\n",
    "        mnm=(\"Es Jeruk\")\n",
    "    elif nomor==4:\n",
    "        totalmnm=gelas*8000\n",
    "        print(gelas, \"Gelas Es Kopi = Rp\", totalmnm)\n",
    "        mnm=(\"Es Kopi\")\n",
    "    elif nomor==5:\n",
    "        totalmnm=gelas*7000\n",
    "        print(gelas,\" Gelas Es Capuccino = Rp\", totalmnm)\n",
    "        mnm=(\"Es Capuccino\")\n",
    "    else:\n",
    "        print(\"Pilihan tidak ada, silahkan masukan lagi !\")\n",
    "        fungsiminuman()\n",
    "fungsimakanan()\n",
    "fungsiminuman()\n",
    "totalsemua=totalmkn+totalmnm\n",
    "print(\"\\nTotal harus Dibayar: Rp\",totalsemua)\n",
    "uang=int(input(\"Uang Tunai Pembeli: Rp\"))\n",
    "kembalian=int(uang-totalsemua)\n",
    "print(\"Kembalian:\",kembalian)\n",
    "print(\"\\n===================================\")\n",
    "print(\"\\n===========STRUK BELI==============\")\n",
    "print(\"\\n===================================\")\n",
    "print (\"Nama\\t\\t:\",pembeli)\n",
    "print (\"Beli\\t\\t:\",porsi,mkn,\"( Rp\", totalmkn,\")\")\n",
    "print (\"\\t\\t\",gelas,mnm,\"( Rp\", totalmnm,\")\")\n",
    "print (\"Tagihan\\t\\t: Rp\",totalsemua)\n",
    "print (\"Dibayar\\t\\t: Rp\",uang)\n",
    "print (\"Kembalian\\t: Rp\",kembalian)"
   ]
  },
  {
   "cell_type": "code",
   "execution_count": null,
   "id": "7957b2f3",
   "metadata": {
    "papermill": {
     "duration": null,
     "end_time": null,
     "exception": null,
     "start_time": null,
     "status": "pending"
    },
    "tags": []
   },
   "outputs": [],
   "source": []
  }
 ],
 "metadata": {
  "kaggle": {
   "accelerator": "none",
   "dataSources": [],
   "dockerImageVersionId": 30664,
   "isGpuEnabled": false,
   "isInternetEnabled": false,
   "language": "python",
   "sourceType": "notebook"
  },
  "kernelspec": {
   "display_name": "Python 3",
   "language": "python",
   "name": "python3"
  },
  "language_info": {
   "codemirror_mode": {
    "name": "ipython",
    "version": 3
   },
   "file_extension": ".py",
   "mimetype": "text/x-python",
   "name": "python",
   "nbconvert_exporter": "python",
   "pygments_lexer": "ipython3",
   "version": "3.10.13"
  },
  "papermill": {
   "default_parameters": {},
   "duration": 5.88785,
   "end_time": "2024-03-19T08:23:44.943540",
   "environment_variables": {},
   "exception": true,
   "input_path": "__notebook__.ipynb",
   "output_path": "__notebook__.ipynb",
   "parameters": {},
   "start_time": "2024-03-19T08:23:39.055690",
   "version": "2.5.0"
  }
 },
 "nbformat": 4,
 "nbformat_minor": 5
}
