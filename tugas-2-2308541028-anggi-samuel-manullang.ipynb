{
 "cells": [
  {
   "cell_type": "code",
   "execution_count": 1,
   "id": "d3c35506",
   "metadata": {
    "execution": {
     "iopub.execute_input": "2024-03-26T12:54:21.353943Z",
     "iopub.status.busy": "2024-03-26T12:54:21.353343Z",
     "iopub.status.idle": "2024-03-26T12:54:21.372466Z",
     "shell.execute_reply": "2024-03-26T12:54:21.370872Z"
    },
    "papermill": {
     "duration": 0.03031,
     "end_time": "2024-03-26T12:54:21.375717",
     "exception": false,
     "start_time": "2024-03-26T12:54:21.345407",
     "status": "completed"
    },
    "tags": []
   },
   "outputs": [
    {
     "name": "stdout",
     "output_type": "stream",
     "text": [
      "Anggi dari kelas A sedang belajar Algoritma.\n"
     ]
    }
   ],
   "source": [
    "nama = \"Anggi\"\n",
    "kelas = 'A'\n",
    "mata_kuliah = \"Algoritma\"\n",
    "print(f\"{nama} dari kelas {kelas} sedang belajar {mata_kuliah}.\")"
   ]
  },
  {
   "cell_type": "code",
   "execution_count": 2,
   "id": "57de742c",
   "metadata": {
    "execution": {
     "iopub.execute_input": "2024-03-26T12:54:21.389455Z",
     "iopub.status.busy": "2024-03-26T12:54:21.388918Z",
     "iopub.status.idle": "2024-03-26T12:54:21.398246Z",
     "shell.execute_reply": "2024-03-26T12:54:21.396380Z"
    },
    "papermill": {
     "duration": 0.01994,
     "end_time": "2024-03-26T12:54:21.401617",
     "exception": false,
     "start_time": "2024-03-26T12:54:21.381677",
     "status": "completed"
    },
    "tags": []
   },
   "outputs": [
    {
     "name": "stdout",
     "output_type": "stream",
     "text": [
      "Ang\n",
      "Anggi sedang belaja\n",
      " sedang belaja\n",
      "g dgej\n",
      "Anggi sedang bela\n",
      "nggi sedang belajar\n",
      "Anggi sedang belajar\n"
     ]
    }
   ],
   "source": [
    "Anggi = 'Anggi sedang belajar'\n",
    "print(Anggi[0:3])\n",
    "print(Anggi[0:-1])\n",
    "print(Anggi[5:-1])\n",
    "print(Anggi [2:-1:3])\n",
    "print(Anggi [:-3])\n",
    "print(Anggi [1:])\n",
    "print(Anggi [:])"
   ]
  },
  {
   "cell_type": "code",
   "execution_count": 3,
   "id": "0e4b3c10",
   "metadata": {
    "execution": {
     "iopub.execute_input": "2024-03-26T12:54:21.413810Z",
     "iopub.status.busy": "2024-03-26T12:54:21.413338Z",
     "iopub.status.idle": "2024-03-26T12:54:21.423291Z",
     "shell.execute_reply": "2024-03-26T12:54:21.422101Z"
    },
    "papermill": {
     "duration": 0.018954,
     "end_time": "2024-03-26T12:54:21.425856",
     "exception": false,
     "start_time": "2024-03-26T12:54:21.406902",
     "status": "completed"
    },
    "tags": []
   },
   "outputs": [
    {
     "name": "stdout",
     "output_type": "stream",
     "text": [
      "17\n"
     ]
    },
    {
     "data": {
      "text/plain": [
       "'SAYA DARI KELAS A'"
      ]
     },
     "execution_count": 3,
     "metadata": {},
     "output_type": "execute_result"
    }
   ],
   "source": [
    "kelas = 'saya dari kelas A'\n",
    "print(len(kelas))\n",
    "kelas.upper()"
   ]
  },
  {
   "cell_type": "code",
   "execution_count": null,
   "id": "5d778f9f",
   "metadata": {
    "papermill": {
     "duration": 0.005024,
     "end_time": "2024-03-26T12:54:21.436016",
     "exception": false,
     "start_time": "2024-03-26T12:54:21.430992",
     "status": "completed"
    },
    "tags": []
   },
   "outputs": [],
   "source": []
  },
  {
   "cell_type": "code",
   "execution_count": 4,
   "id": "2b3b3c2b",
   "metadata": {
    "execution": {
     "iopub.execute_input": "2024-03-26T12:54:21.450172Z",
     "iopub.status.busy": "2024-03-26T12:54:21.449131Z",
     "iopub.status.idle": "2024-03-26T12:54:21.458186Z",
     "shell.execute_reply": "2024-03-26T12:54:21.456825Z"
    },
    "papermill": {
     "duration": 0.01897,
     "end_time": "2024-03-26T12:54:21.461381",
     "exception": false,
     "start_time": "2024-03-26T12:54:21.442411",
     "status": "completed"
    },
    "tags": []
   },
   "outputs": [
    {
     "data": {
      "text/plain": [
       "16"
      ]
     },
     "execution_count": 4,
     "metadata": {},
     "output_type": "execute_result"
    }
   ],
   "source": [
    "kelas = 'saya dari kelas A'\n",
    "kelas.find('A')"
   ]
  },
  {
   "cell_type": "code",
   "execution_count": 5,
   "id": "8a715361",
   "metadata": {
    "execution": {
     "iopub.execute_input": "2024-03-26T12:54:21.474502Z",
     "iopub.status.busy": "2024-03-26T12:54:21.474067Z",
     "iopub.status.idle": "2024-03-26T12:54:21.481202Z",
     "shell.execute_reply": "2024-03-26T12:54:21.480228Z"
    },
    "papermill": {
     "duration": 0.016346,
     "end_time": "2024-03-26T12:54:21.483466",
     "exception": false,
     "start_time": "2024-03-26T12:54:21.467120",
     "status": "completed"
    },
    "tags": []
   },
   "outputs": [
    {
     "data": {
      "text/plain": [
       "'saya dari kelas a'"
      ]
     },
     "execution_count": 5,
     "metadata": {},
     "output_type": "execute_result"
    }
   ],
   "source": [
    "kelas = 'saya dari kelas A'\n",
    "kelas.lower()"
   ]
  },
  {
   "cell_type": "code",
   "execution_count": 6,
   "id": "529967d4",
   "metadata": {
    "execution": {
     "iopub.execute_input": "2024-03-26T12:54:21.497628Z",
     "iopub.status.busy": "2024-03-26T12:54:21.497219Z",
     "iopub.status.idle": "2024-03-26T12:54:21.502266Z",
     "shell.execute_reply": "2024-03-26T12:54:21.501158Z"
    },
    "papermill": {
     "duration": 0.015371,
     "end_time": "2024-03-26T12:54:21.504730",
     "exception": false,
     "start_time": "2024-03-26T12:54:21.489359",
     "status": "completed"
    },
    "tags": []
   },
   "outputs": [
    {
     "name": "stdout",
     "output_type": "stream",
     "text": [
      "17\n"
     ]
    }
   ],
   "source": [
    "kelas = 'saya dari kelas A'\n",
    "print(len(kelas))"
   ]
  },
  {
   "cell_type": "code",
   "execution_count": 7,
   "id": "16cceda7",
   "metadata": {
    "execution": {
     "iopub.execute_input": "2024-03-26T12:54:21.517338Z",
     "iopub.status.busy": "2024-03-26T12:54:21.516940Z",
     "iopub.status.idle": "2024-03-26T12:54:21.523367Z",
     "shell.execute_reply": "2024-03-26T12:54:21.522067Z"
    },
    "papermill": {
     "duration": 0.01542,
     "end_time": "2024-03-26T12:54:21.525605",
     "exception": false,
     "start_time": "2024-03-26T12:54:21.510185",
     "status": "completed"
    },
    "tags": []
   },
   "outputs": [
    {
     "name": "stdout",
     "output_type": "stream",
     "text": [
      "150\n",
      "1\n",
      "400\n",
      "10000000000\n"
     ]
    }
   ],
   "source": [
    "print(100+50)\n",
    "print (50//50)\n",
    "print (20*20)\n",
    "print (10**10)"
   ]
  },
  {
   "cell_type": "code",
   "execution_count": 8,
   "id": "309d770f",
   "metadata": {
    "execution": {
     "iopub.execute_input": "2024-03-26T12:54:21.539324Z",
     "iopub.status.busy": "2024-03-26T12:54:21.538890Z",
     "iopub.status.idle": "2024-03-26T12:54:21.546663Z",
     "shell.execute_reply": "2024-03-26T12:54:21.545290Z"
    },
    "papermill": {
     "duration": 0.018347,
     "end_time": "2024-03-26T12:54:21.549593",
     "exception": false,
     "start_time": "2024-03-26T12:54:21.531246",
     "status": "completed"
    },
    "tags": []
   },
   "outputs": [
    {
     "name": "stdout",
     "output_type": "stream",
     "text": [
      "False\n",
      "True\n",
      "False\n",
      "True\n",
      "False\n",
      "True\n"
     ]
    }
   ],
   "source": [
    "x = 10>11\n",
    "print(x) \n",
    "x = 8<12\n",
    "print(x) \n",
    "x= 7 >= 21\n",
    "print(x) \n",
    "x = 20 <= 20\n",
    "print(x) \n",
    "x= 21 == 8\n",
    "print(x) \n",
    "x= 8!= 7\n",
    "print(x)\n"
   ]
  },
  {
   "cell_type": "code",
   "execution_count": 9,
   "id": "f5e8cbcd",
   "metadata": {
    "execution": {
     "iopub.execute_input": "2024-03-26T12:54:21.563204Z",
     "iopub.status.busy": "2024-03-26T12:54:21.562759Z",
     "iopub.status.idle": "2024-03-26T12:54:21.570982Z",
     "shell.execute_reply": "2024-03-26T12:54:21.569807Z"
    },
    "papermill": {
     "duration": 0.018677,
     "end_time": "2024-03-26T12:54:21.574186",
     "exception": false,
     "start_time": "2024-03-26T12:54:21.555509",
     "status": "completed"
    },
    "tags": []
   },
   "outputs": [
    {
     "name": "stdout",
     "output_type": "stream",
     "text": [
      "22\n",
      "-1\n",
      "24\n",
      "4.0\n",
      "0\n",
      "0\n",
      "10000000000000000000000000000000000\n",
      "53\n",
      "41\n",
      "1763\n"
     ]
    }
   ],
   "source": [
    "print(10+12)\n",
    "print(8-9)\n",
    "print(3*8)\n",
    "print(8/2)\n",
    "print(4//9)\n",
    "print(6%2)\n",
    "print(10**34)\n",
    "x=32\n",
    "x+=21\n",
    "print(x)\n",
    "x-=12\n",
    "print(x)\n",
    "x*=43\n",
    "print(x)"
   ]
  },
  {
   "cell_type": "code",
   "execution_count": 10,
   "id": "23a2f7e2",
   "metadata": {
    "execution": {
     "iopub.execute_input": "2024-03-26T12:54:21.588598Z",
     "iopub.status.busy": "2024-03-26T12:54:21.588216Z",
     "iopub.status.idle": "2024-03-26T12:54:21.594928Z",
     "shell.execute_reply": "2024-03-26T12:54:21.593680Z"
    },
    "papermill": {
     "duration": 0.01665,
     "end_time": "2024-03-26T12:54:21.597380",
     "exception": false,
     "start_time": "2024-03-26T12:54:21.580730",
     "status": "completed"
    },
    "tags": []
   },
   "outputs": [
    {
     "name": "stdout",
     "output_type": "stream",
     "text": [
      "True\n",
      "True\n"
     ]
    }
   ],
   "source": [
    "usia_kakek = 70\n",
    "usia_nenek = 68\n",
    "print (usia_kakek < 72 or usia_nenek > 60)\n",
    "print (not(usia_kakek >77 or usia_nenek < 62))"
   ]
  }
 ],
 "metadata": {
  "kaggle": {
   "accelerator": "none",
   "dataSources": [],
   "dockerImageVersionId": 30673,
   "isGpuEnabled": false,
   "isInternetEnabled": false,
   "language": "python",
   "sourceType": "notebook"
  },
  "kernelspec": {
   "display_name": "Python 3",
   "language": "python",
   "name": "python3"
  },
  "language_info": {
   "codemirror_mode": {
    "name": "ipython",
    "version": 3
   },
   "file_extension": ".py",
   "mimetype": "text/x-python",
   "name": "python",
   "nbconvert_exporter": "python",
   "pygments_lexer": "ipython3",
   "version": "3.10.13"
  },
  "papermill": {
   "default_parameters": {},
   "duration": 3.99327,
   "end_time": "2024-03-26T12:54:22.024669",
   "environment_variables": {},
   "exception": null,
   "input_path": "__notebook__.ipynb",
   "output_path": "__notebook__.ipynb",
   "parameters": {},
   "start_time": "2024-03-26T12:54:18.031399",
   "version": "2.5.0"
  }
 },
 "nbformat": 4,
 "nbformat_minor": 5
}
