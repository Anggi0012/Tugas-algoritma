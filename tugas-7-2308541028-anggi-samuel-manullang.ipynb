{
 "cells": [
  {
   "cell_type": "code",
   "execution_count": 1,
   "id": "c0d6060d",
   "metadata": {
    "execution": {
     "iopub.execute_input": "2024-04-30T12:37:59.482345Z",
     "iopub.status.busy": "2024-04-30T12:37:59.481582Z",
     "iopub.status.idle": "2024-04-30T12:37:59.498313Z",
     "shell.execute_reply": "2024-04-30T12:37:59.496703Z"
    },
    "papermill": {
     "duration": 0.038694,
     "end_time": "2024-04-30T12:37:59.501020",
     "exception": false,
     "start_time": "2024-04-30T12:37:59.462326",
     "status": "completed"
    },
    "tags": []
   },
   "outputs": [
    {
     "name": "stdout",
     "output_type": "stream",
     "text": [
      "[False False False  True  True]\n",
      "[False False  True  True  True]\n",
      "[ True  True  True False False]\n"
     ]
    }
   ],
   "source": [
    "import numpy as np\n",
    "a_28 = np.array([1, 2, 3, 4, 5])\n",
    "b_28 = np.array([6, 7, 8, 9, 10])\n",
    "c_28 = np.logical_and(a_28 > 3, b_28 > 7)\n",
    "print(c_28)  \n",
    "d_28 = np.logical_or(a_28 > 3, b_28 > 7)\n",
    "print(d_28) \n",
    "e_28 = np.logical_not(a_28 > 3)\n",
    "print(e_28)"
   ]
  },
  {
   "cell_type": "code",
   "execution_count": 2,
   "id": "71031234",
   "metadata": {
    "execution": {
     "iopub.execute_input": "2024-04-30T12:37:59.536671Z",
     "iopub.status.busy": "2024-04-30T12:37:59.536218Z",
     "iopub.status.idle": "2024-04-30T12:38:00.082647Z",
     "shell.execute_reply": "2024-04-30T12:38:00.081038Z"
    },
    "papermill": {
     "duration": 0.56714,
     "end_time": "2024-04-30T12:38:00.084734",
     "exception": true,
     "start_time": "2024-04-30T12:37:59.517594",
     "status": "failed"
    },
    "tags": []
   },
   "outputs": [
    {
     "name": "stdout",
     "output_type": "stream",
     "text": [
      "Menghitung matriks 2×2\n",
      "Masukkan elemen matriks pertama (2x2):\n"
     ]
    },
    {
     "ename": "StdinNotImplementedError",
     "evalue": "raw_input was called, but this frontend does not support input requests.",
     "output_type": "error",
     "traceback": [
      "\u001b[0;31m---------------------------------------------------------------------------\u001b[0m",
      "\u001b[0;31mStdinNotImplementedError\u001b[0m                  Traceback (most recent call last)",
      "Cell \u001b[0;32mIn[2], line 4\u001b[0m\n\u001b[1;32m      2\u001b[0m \u001b[38;5;28mprint\u001b[39m(\u001b[38;5;124m\"\u001b[39m\u001b[38;5;124mMenghitung matriks 2×2\u001b[39m\u001b[38;5;124m\"\u001b[39m)\n\u001b[1;32m      3\u001b[0m \u001b[38;5;28mprint\u001b[39m(\u001b[38;5;124m\"\u001b[39m\u001b[38;5;124mMasukkan elemen matriks pertama (2x2):\u001b[39m\u001b[38;5;124m\"\u001b[39m)\n\u001b[0;32m----> 4\u001b[0m matriks1_28 \u001b[38;5;241m=\u001b[39m np\u001b[38;5;241m.\u001b[39marray([[\u001b[38;5;28mfloat\u001b[39m(\u001b[38;5;28;43minput\u001b[39;49m\u001b[43m(\u001b[49m\u001b[43m)\u001b[49m), \u001b[38;5;28mfloat\u001b[39m(\u001b[38;5;28minput\u001b[39m())],\n\u001b[1;32m      5\u001b[0m                      [\u001b[38;5;28mfloat\u001b[39m(\u001b[38;5;28minput\u001b[39m()), \u001b[38;5;28mfloat\u001b[39m(\u001b[38;5;28minput\u001b[39m())]])\n\u001b[1;32m      6\u001b[0m \u001b[38;5;28mprint\u001b[39m(\u001b[38;5;124m\"\u001b[39m\u001b[38;5;130;01m\\n\u001b[39;00m\u001b[38;5;124mMasukkan elemen matriks kedua (2x2):\u001b[39m\u001b[38;5;124m\"\u001b[39m)\n\u001b[1;32m      7\u001b[0m matriks2_28 \u001b[38;5;241m=\u001b[39m np\u001b[38;5;241m.\u001b[39marray([[\u001b[38;5;28mfloat\u001b[39m(\u001b[38;5;28minput\u001b[39m()), \u001b[38;5;28mfloat\u001b[39m(\u001b[38;5;28minput\u001b[39m())],\n\u001b[1;32m      8\u001b[0m                      [\u001b[38;5;28mfloat\u001b[39m(\u001b[38;5;28minput\u001b[39m()), \u001b[38;5;28mfloat\u001b[39m(\u001b[38;5;28minput\u001b[39m())]])\n",
      "File \u001b[0;32m/opt/conda/lib/python3.10/site-packages/ipykernel/kernelbase.py:1261\u001b[0m, in \u001b[0;36mKernel.raw_input\u001b[0;34m(self, prompt)\u001b[0m\n\u001b[1;32m   1259\u001b[0m \u001b[38;5;28;01mif\u001b[39;00m \u001b[38;5;129;01mnot\u001b[39;00m \u001b[38;5;28mself\u001b[39m\u001b[38;5;241m.\u001b[39m_allow_stdin:\n\u001b[1;32m   1260\u001b[0m     msg \u001b[38;5;241m=\u001b[39m \u001b[38;5;124m\"\u001b[39m\u001b[38;5;124mraw_input was called, but this frontend does not support input requests.\u001b[39m\u001b[38;5;124m\"\u001b[39m\n\u001b[0;32m-> 1261\u001b[0m     \u001b[38;5;28;01mraise\u001b[39;00m StdinNotImplementedError(msg)\n\u001b[1;32m   1262\u001b[0m \u001b[38;5;28;01mreturn\u001b[39;00m \u001b[38;5;28mself\u001b[39m\u001b[38;5;241m.\u001b[39m_input_request(\n\u001b[1;32m   1263\u001b[0m     \u001b[38;5;28mstr\u001b[39m(prompt),\n\u001b[1;32m   1264\u001b[0m     \u001b[38;5;28mself\u001b[39m\u001b[38;5;241m.\u001b[39m_parent_ident[\u001b[38;5;124m\"\u001b[39m\u001b[38;5;124mshell\u001b[39m\u001b[38;5;124m\"\u001b[39m],\n\u001b[1;32m   1265\u001b[0m     \u001b[38;5;28mself\u001b[39m\u001b[38;5;241m.\u001b[39mget_parent(\u001b[38;5;124m\"\u001b[39m\u001b[38;5;124mshell\u001b[39m\u001b[38;5;124m\"\u001b[39m),\n\u001b[1;32m   1266\u001b[0m     password\u001b[38;5;241m=\u001b[39m\u001b[38;5;28;01mFalse\u001b[39;00m,\n\u001b[1;32m   1267\u001b[0m )\n",
      "\u001b[0;31mStdinNotImplementedError\u001b[0m: raw_input was called, but this frontend does not support input requests."
     ]
    }
   ],
   "source": [
    "import numpy as np\n",
    "print(\"Menghitung matriks 2×2\")\n",
    "print(\"Masukkan elemen matriks pertama (2x2):\")\n",
    "matriks1_28 = np.array([[float(input()), float(input())],\n",
    "                     [float(input()), float(input())]])\n",
    "print(\"\\nMasukkan elemen matriks kedua (2x2):\")\n",
    "matriks2_28 = np.array([[float(input()), float(input())],\n",
    "                     [float(input()), float(input())]])\n",
    "hasil = matriks1_28 + matriks2_28\n",
    "print(\"\\nMatriks Pertama:\")\n",
    "print(matriks1)\n",
    "print(\"\\nMatriks Kedua:\")\n",
    "print(matriks2)\n",
    "print(\"\\nHasil Penjumlahan:\")\n",
    "print(hasil)"
   ]
  },
  {
   "cell_type": "code",
   "execution_count": null,
   "id": "ad712eb5",
   "metadata": {
    "execution": {
     "iopub.execute_input": "2024-04-30T12:20:42.558439Z",
     "iopub.status.busy": "2024-04-30T12:20:42.558057Z",
     "iopub.status.idle": "2024-04-30T12:20:42.565325Z",
     "shell.execute_reply": "2024-04-30T12:20:42.563744Z",
     "shell.execute_reply.started": "2024-04-30T12:20:42.558411Z"
    },
    "papermill": {
     "duration": null,
     "end_time": null,
     "exception": null,
     "start_time": null,
     "status": "pending"
    },
    "tags": []
   },
   "outputs": [],
   "source": [
    "#2.20.1 Perintah Dasar pada Numpy\n",
    "import numpy as np\n",
    "a_28 = np.array ([0,1,2,3,4])\n",
    "print(a_28)"
   ]
  },
  {
   "cell_type": "code",
   "execution_count": null,
   "id": "ea69c5dd",
   "metadata": {
    "execution": {
     "iopub.execute_input": "2024-04-30T10:48:11.606929Z",
     "iopub.status.busy": "2024-04-30T10:48:11.606448Z",
     "iopub.status.idle": "2024-04-30T10:48:11.614377Z",
     "shell.execute_reply": "2024-04-30T10:48:11.612945Z",
     "shell.execute_reply.started": "2024-04-30T10:48:11.606896Z"
    },
    "papermill": {
     "duration": null,
     "end_time": null,
     "exception": null,
     "start_time": null,
     "status": "pending"
    },
    "tags": []
   },
   "outputs": [],
   "source": [
    "b = np.array([[5,6,7,8],[9,8,7,6]])\n",
    "print(b)"
   ]
  },
  {
   "cell_type": "code",
   "execution_count": null,
   "id": "120fec1a",
   "metadata": {
    "execution": {
     "iopub.execute_input": "2024-04-30T10:52:40.649209Z",
     "iopub.status.busy": "2024-04-30T10:52:40.648686Z",
     "iopub.status.idle": "2024-04-30T10:52:40.657298Z",
     "shell.execute_reply": "2024-04-30T10:52:40.655894Z",
     "shell.execute_reply.started": "2024-04-30T10:52:40.649173Z"
    },
    "papermill": {
     "duration": null,
     "end_time": null,
     "exception": null,
     "start_time": null,
     "status": "pending"
    },
    "tags": []
   },
   "outputs": [],
   "source": [
    "c= np.array([[[0,4,2,9,3], [2,7,6,1,2]], [[8,2,8,7,0], [3,5,5,3,9]],\n",
    "[[1,3,3,4,6], [2,6,3,8,9]]])\n",
    "print(c)"
   ]
  },
  {
   "cell_type": "code",
   "execution_count": null,
   "id": "6e996901",
   "metadata": {
    "execution": {
     "iopub.execute_input": "2024-04-30T10:58:40.400309Z",
     "iopub.status.busy": "2024-04-30T10:58:40.399891Z",
     "iopub.status.idle": "2024-04-30T10:58:40.407497Z",
     "shell.execute_reply": "2024-04-30T10:58:40.406258Z",
     "shell.execute_reply.started": "2024-04-30T10:58:40.400279Z"
    },
    "papermill": {
     "duration": null,
     "end_time": null,
     "exception": null,
     "start_time": null,
     "status": "pending"
    },
    "tags": []
   },
   "outputs": [],
   "source": [
    "#2.20.2 Memanggil Anggota, Kolom dan Baris dengan Numpy\n",
    "\n",
    "d= np.array([[0,4,2,9,3], [2,7,6,1,2], [8,2,8,7,0], [3,5,5,3,9],\n",
    "[1,3,3,4,6], [2,6,3,8,9]])\n",
    "print(d)"
   ]
  },
  {
   "cell_type": "code",
   "execution_count": null,
   "id": "d1d6f129",
   "metadata": {
    "execution": {
     "iopub.execute_input": "2024-04-30T10:58:46.098943Z",
     "iopub.status.busy": "2024-04-30T10:58:46.098550Z",
     "iopub.status.idle": "2024-04-30T10:58:46.109220Z",
     "shell.execute_reply": "2024-04-30T10:58:46.107736Z",
     "shell.execute_reply.started": "2024-04-30T10:58:46.098914Z"
    },
    "papermill": {
     "duration": null,
     "end_time": null,
     "exception": null,
     "start_time": null,
     "status": "pending"
    },
    "tags": []
   },
   "outputs": [],
   "source": [
    "d[0,3]"
   ]
  },
  {
   "cell_type": "code",
   "execution_count": null,
   "id": "da105288",
   "metadata": {
    "execution": {
     "iopub.execute_input": "2024-04-30T10:59:07.979807Z",
     "iopub.status.busy": "2024-04-30T10:59:07.979360Z",
     "iopub.status.idle": "2024-04-30T10:59:07.987990Z",
     "shell.execute_reply": "2024-04-30T10:59:07.986472Z",
     "shell.execute_reply.started": "2024-04-30T10:59:07.979776Z"
    },
    "papermill": {
     "duration": null,
     "end_time": null,
     "exception": null,
     "start_time": null,
     "status": "pending"
    },
    "tags": []
   },
   "outputs": [],
   "source": [
    "d[1,:]"
   ]
  },
  {
   "cell_type": "code",
   "execution_count": null,
   "id": "bbe8b997",
   "metadata": {
    "execution": {
     "iopub.execute_input": "2024-04-30T11:00:49.220912Z",
     "iopub.status.busy": "2024-04-30T11:00:49.220430Z",
     "iopub.status.idle": "2024-04-30T11:00:49.230014Z",
     "shell.execute_reply": "2024-04-30T11:00:49.228498Z",
     "shell.execute_reply.started": "2024-04-30T11:00:49.220879Z"
    },
    "papermill": {
     "duration": null,
     "end_time": null,
     "exception": null,
     "start_time": null,
     "status": "pending"
    },
    "tags": []
   },
   "outputs": [],
   "source": [
    "d[:,2]"
   ]
  },
  {
   "cell_type": "code",
   "execution_count": null,
   "id": "bb115bc3",
   "metadata": {
    "execution": {
     "iopub.execute_input": "2024-04-30T11:01:15.886094Z",
     "iopub.status.busy": "2024-04-30T11:01:15.885688Z",
     "iopub.status.idle": "2024-04-30T11:01:15.894141Z",
     "shell.execute_reply": "2024-04-30T11:01:15.892627Z",
     "shell.execute_reply.started": "2024-04-30T11:01:15.886063Z"
    },
    "papermill": {
     "duration": null,
     "end_time": null,
     "exception": null,
     "start_time": null,
     "status": "pending"
    },
    "tags": []
   },
   "outputs": [],
   "source": [
    "d[0,1:3]"
   ]
  },
  {
   "cell_type": "code",
   "execution_count": null,
   "id": "5131d6a8",
   "metadata": {
    "execution": {
     "iopub.execute_input": "2024-04-30T11:04:00.293043Z",
     "iopub.status.busy": "2024-04-30T11:04:00.292512Z",
     "iopub.status.idle": "2024-04-30T11:04:00.301102Z",
     "shell.execute_reply": "2024-04-30T11:04:00.299821Z",
     "shell.execute_reply.started": "2024-04-30T11:04:00.293008Z"
    },
    "papermill": {
     "duration": null,
     "end_time": null,
     "exception": null,
     "start_time": null,
     "status": "pending"
    },
    "tags": []
   },
   "outputs": [],
   "source": [
    "d[0,0:3:2]"
   ]
  },
  {
   "cell_type": "code",
   "execution_count": null,
   "id": "a0842292",
   "metadata": {
    "execution": {
     "iopub.execute_input": "2024-04-30T11:05:31.888781Z",
     "iopub.status.busy": "2024-04-30T11:05:31.888335Z",
     "iopub.status.idle": "2024-04-30T11:05:31.896724Z",
     "shell.execute_reply": "2024-04-30T11:05:31.895122Z",
     "shell.execute_reply.started": "2024-04-30T11:05:31.888742Z"
    },
    "papermill": {
     "duration": null,
     "end_time": null,
     "exception": null,
     "start_time": null,
     "status": "pending"
    },
    "tags": []
   },
   "outputs": [],
   "source": [
    "d[0,0]=11 \n",
    "print(d)"
   ]
  },
  {
   "cell_type": "code",
   "execution_count": null,
   "id": "2b72e527",
   "metadata": {
    "execution": {
     "iopub.execute_input": "2024-04-30T11:06:31.970157Z",
     "iopub.status.busy": "2024-04-30T11:06:31.969580Z",
     "iopub.status.idle": "2024-04-30T11:06:31.977261Z",
     "shell.execute_reply": "2024-04-30T11:06:31.976010Z",
     "shell.execute_reply.started": "2024-04-30T11:06:31.970127Z"
    },
    "papermill": {
     "duration": null,
     "end_time": null,
     "exception": null,
     "start_time": null,
     "status": "pending"
    },
    "tags": []
   },
   "outputs": [],
   "source": [
    "#2.20.3 Matrix pada Numpy\n",
    "np.ones((2,3))"
   ]
  },
  {
   "cell_type": "code",
   "execution_count": null,
   "id": "dab0287e",
   "metadata": {
    "execution": {
     "iopub.execute_input": "2024-04-30T11:07:43.783750Z",
     "iopub.status.busy": "2024-04-30T11:07:43.782430Z",
     "iopub.status.idle": "2024-04-30T11:07:43.791607Z",
     "shell.execute_reply": "2024-04-30T11:07:43.790278Z",
     "shell.execute_reply.started": "2024-04-30T11:07:43.783708Z"
    },
    "papermill": {
     "duration": null,
     "end_time": null,
     "exception": null,
     "start_time": null,
     "status": "pending"
    },
    "tags": []
   },
   "outputs": [],
   "source": [
    "np.zeros((3,2))"
   ]
  },
  {
   "cell_type": "code",
   "execution_count": null,
   "id": "d57ce746",
   "metadata": {
    "execution": {
     "iopub.execute_input": "2024-04-30T11:08:02.492405Z",
     "iopub.status.busy": "2024-04-30T11:08:02.492019Z",
     "iopub.status.idle": "2024-04-30T11:08:02.499840Z",
     "shell.execute_reply": "2024-04-30T11:08:02.498692Z",
     "shell.execute_reply.started": "2024-04-30T11:08:02.492376Z"
    },
    "papermill": {
     "duration": null,
     "end_time": null,
     "exception": null,
     "start_time": null,
     "status": "pending"
    },
    "tags": []
   },
   "outputs": [],
   "source": [
    "np.identity(4)"
   ]
  },
  {
   "cell_type": "code",
   "execution_count": null,
   "id": "6cc1bc55",
   "metadata": {
    "execution": {
     "iopub.execute_input": "2024-04-30T11:08:21.742334Z",
     "iopub.status.busy": "2024-04-30T11:08:21.741926Z",
     "iopub.status.idle": "2024-04-30T11:08:21.751593Z",
     "shell.execute_reply": "2024-04-30T11:08:21.749923Z",
     "shell.execute_reply.started": "2024-04-30T11:08:21.742305Z"
    },
    "papermill": {
     "duration": null,
     "end_time": null,
     "exception": null,
     "start_time": null,
     "status": "pending"
    },
    "tags": []
   },
   "outputs": [],
   "source": [
    "np.ones((2,3,4))"
   ]
  },
  {
   "cell_type": "code",
   "execution_count": null,
   "id": "8e79e46d",
   "metadata": {
    "execution": {
     "iopub.execute_input": "2024-04-30T11:08:41.614746Z",
     "iopub.status.busy": "2024-04-30T11:08:41.614301Z",
     "iopub.status.idle": "2024-04-30T11:08:41.625076Z",
     "shell.execute_reply": "2024-04-30T11:08:41.623518Z",
     "shell.execute_reply.started": "2024-04-30T11:08:41.614716Z"
    },
    "papermill": {
     "duration": null,
     "end_time": null,
     "exception": null,
     "start_time": null,
     "status": "pending"
    },
    "tags": []
   },
   "outputs": [],
   "source": [
    "np.full((3,2),9)"
   ]
  },
  {
   "cell_type": "code",
   "execution_count": null,
   "id": "3a048c36",
   "metadata": {
    "execution": {
     "iopub.execute_input": "2024-04-30T11:08:58.678798Z",
     "iopub.status.busy": "2024-04-30T11:08:58.678361Z",
     "iopub.status.idle": "2024-04-30T11:08:58.688333Z",
     "shell.execute_reply": "2024-04-30T11:08:58.686632Z",
     "shell.execute_reply.started": "2024-04-30T11:08:58.678767Z"
    },
    "papermill": {
     "duration": null,
     "end_time": null,
     "exception": null,
     "start_time": null,
     "status": "pending"
    },
    "tags": []
   },
   "outputs": [],
   "source": [
    "np.random.rand(4,3)"
   ]
  },
  {
   "cell_type": "code",
   "execution_count": null,
   "id": "ec2f8735",
   "metadata": {
    "execution": {
     "iopub.execute_input": "2024-04-30T11:09:18.646326Z",
     "iopub.status.busy": "2024-04-30T11:09:18.645348Z",
     "iopub.status.idle": "2024-04-30T11:09:18.656702Z",
     "shell.execute_reply": "2024-04-30T11:09:18.655317Z",
     "shell.execute_reply.started": "2024-04-30T11:09:18.646275Z"
    },
    "papermill": {
     "duration": null,
     "end_time": null,
     "exception": null,
     "start_time": null,
     "status": "pending"
    },
    "tags": []
   },
   "outputs": [],
   "source": [
    "np.random.randint(1, 10, size=(3,4))"
   ]
  },
  {
   "cell_type": "code",
   "execution_count": null,
   "id": "1d1d91f3",
   "metadata": {
    "execution": {
     "iopub.execute_input": "2024-04-30T11:13:57.037873Z",
     "iopub.status.busy": "2024-04-30T11:13:57.037404Z",
     "iopub.status.idle": "2024-04-30T11:13:57.044493Z",
     "shell.execute_reply": "2024-04-30T11:13:57.043269Z",
     "shell.execute_reply.started": "2024-04-30T11:13:57.037841Z"
    },
    "papermill": {
     "duration": null,
     "end_time": null,
     "exception": null,
     "start_time": null,
     "status": "pending"
    },
    "tags": []
   },
   "outputs": [],
   "source": [
    "#2.20.4 Copy pada Numpy\n",
    "a = np.array([1,2,3,4,5]) \n",
    "print(a)"
   ]
  },
  {
   "cell_type": "code",
   "execution_count": null,
   "id": "bc220314",
   "metadata": {
    "execution": {
     "iopub.execute_input": "2024-04-30T11:14:31.597494Z",
     "iopub.status.busy": "2024-04-30T11:14:31.597033Z",
     "iopub.status.idle": "2024-04-30T11:14:31.604579Z",
     "shell.execute_reply": "2024-04-30T11:14:31.603138Z",
     "shell.execute_reply.started": "2024-04-30T11:14:31.597461Z"
    },
    "papermill": {
     "duration": null,
     "end_time": null,
     "exception": null,
     "start_time": null,
     "status": "pending"
    },
    "tags": []
   },
   "outputs": [],
   "source": [
    "b = a \n",
    "print(b)"
   ]
  },
  {
   "cell_type": "code",
   "execution_count": null,
   "id": "2840cd9b",
   "metadata": {
    "execution": {
     "iopub.execute_input": "2024-04-30T11:14:54.147579Z",
     "iopub.status.busy": "2024-04-30T11:14:54.147124Z",
     "iopub.status.idle": "2024-04-30T11:14:54.154385Z",
     "shell.execute_reply": "2024-04-30T11:14:54.153118Z",
     "shell.execute_reply.started": "2024-04-30T11:14:54.147548Z"
    },
    "papermill": {
     "duration": null,
     "end_time": null,
     "exception": null,
     "start_time": null,
     "status": "pending"
    },
    "tags": []
   },
   "outputs": [],
   "source": [
    "b[0] = 10 \n",
    "print(b)"
   ]
  },
  {
   "cell_type": "code",
   "execution_count": null,
   "id": "ac8a02ee",
   "metadata": {
    "execution": {
     "iopub.execute_input": "2024-04-30T11:15:14.005994Z",
     "iopub.status.busy": "2024-04-30T11:15:14.005596Z",
     "iopub.status.idle": "2024-04-30T11:15:14.012818Z",
     "shell.execute_reply": "2024-04-30T11:15:14.011505Z",
     "shell.execute_reply.started": "2024-04-30T11:15:14.005964Z"
    },
    "papermill": {
     "duration": null,
     "end_time": null,
     "exception": null,
     "start_time": null,
     "status": "pending"
    },
    "tags": []
   },
   "outputs": [],
   "source": [
    "print(a)"
   ]
  },
  {
   "cell_type": "code",
   "execution_count": null,
   "id": "bb3659bd",
   "metadata": {
    "execution": {
     "iopub.execute_input": "2024-04-30T11:15:48.467986Z",
     "iopub.status.busy": "2024-04-30T11:15:48.467585Z",
     "iopub.status.idle": "2024-04-30T11:15:48.474449Z",
     "shell.execute_reply": "2024-04-30T11:15:48.473247Z",
     "shell.execute_reply.started": "2024-04-30T11:15:48.467958Z"
    },
    "papermill": {
     "duration": null,
     "end_time": null,
     "exception": null,
     "start_time": null,
     "status": "pending"
    },
    "tags": []
   },
   "outputs": [],
   "source": [
    "c = np.array([1,2,3,4,5])\n",
    "print(c)"
   ]
  },
  {
   "cell_type": "code",
   "execution_count": null,
   "id": "0b3f653f",
   "metadata": {
    "execution": {
     "iopub.execute_input": "2024-04-30T11:16:16.749000Z",
     "iopub.status.busy": "2024-04-30T11:16:16.748649Z",
     "iopub.status.idle": "2024-04-30T11:16:16.755438Z",
     "shell.execute_reply": "2024-04-30T11:16:16.753798Z",
     "shell.execute_reply.started": "2024-04-30T11:16:16.748973Z"
    },
    "papermill": {
     "duration": null,
     "end_time": null,
     "exception": null,
     "start_time": null,
     "status": "pending"
    },
    "tags": []
   },
   "outputs": [],
   "source": [
    "d = c.copy() \n",
    "print(d)"
   ]
  },
  {
   "cell_type": "code",
   "execution_count": null,
   "id": "49b8b186",
   "metadata": {
    "execution": {
     "iopub.execute_input": "2024-04-30T11:16:44.986055Z",
     "iopub.status.busy": "2024-04-30T11:16:44.985470Z",
     "iopub.status.idle": "2024-04-30T11:16:44.993962Z",
     "shell.execute_reply": "2024-04-30T11:16:44.992120Z",
     "shell.execute_reply.started": "2024-04-30T11:16:44.986017Z"
    },
    "papermill": {
     "duration": null,
     "end_time": null,
     "exception": null,
     "start_time": null,
     "status": "pending"
    },
    "tags": []
   },
   "outputs": [],
   "source": [
    "d[0] = 10 \n",
    "print(d)"
   ]
  },
  {
   "cell_type": "code",
   "execution_count": null,
   "id": "66081269",
   "metadata": {
    "execution": {
     "iopub.execute_input": "2024-04-30T11:17:01.613407Z",
     "iopub.status.busy": "2024-04-30T11:17:01.612986Z",
     "iopub.status.idle": "2024-04-30T11:17:01.619694Z",
     "shell.execute_reply": "2024-04-30T11:17:01.618449Z",
     "shell.execute_reply.started": "2024-04-30T11:17:01.613376Z"
    },
    "papermill": {
     "duration": null,
     "end_time": null,
     "exception": null,
     "start_time": null,
     "status": "pending"
    },
    "tags": []
   },
   "outputs": [],
   "source": [
    "print(c)"
   ]
  },
  {
   "cell_type": "code",
   "execution_count": null,
   "id": "e6a68213",
   "metadata": {
    "execution": {
     "iopub.execute_input": "2024-04-30T11:18:19.446627Z",
     "iopub.status.busy": "2024-04-30T11:18:19.446229Z",
     "iopub.status.idle": "2024-04-30T11:18:19.454277Z",
     "shell.execute_reply": "2024-04-30T11:18:19.453050Z",
     "shell.execute_reply.started": "2024-04-30T11:18:19.446591Z"
    },
    "papermill": {
     "duration": null,
     "end_time": null,
     "exception": null,
     "start_time": null,
     "status": "pending"
    },
    "tags": []
   },
   "outputs": [],
   "source": [
    "#2.20.5 Operasi Matematika pada Numpy\n",
    "a+2"
   ]
  },
  {
   "cell_type": "code",
   "execution_count": null,
   "id": "347807b3",
   "metadata": {
    "execution": {
     "iopub.execute_input": "2024-04-30T11:18:42.713725Z",
     "iopub.status.busy": "2024-04-30T11:18:42.713271Z",
     "iopub.status.idle": "2024-04-30T11:18:42.722754Z",
     "shell.execute_reply": "2024-04-30T11:18:42.720952Z",
     "shell.execute_reply.started": "2024-04-30T11:18:42.713691Z"
    },
    "papermill": {
     "duration": null,
     "end_time": null,
     "exception": null,
     "start_time": null,
     "status": "pending"
    },
    "tags": []
   },
   "outputs": [],
   "source": [
    "a-2"
   ]
  },
  {
   "cell_type": "code",
   "execution_count": null,
   "id": "eda43c27",
   "metadata": {
    "execution": {
     "iopub.execute_input": "2024-04-30T11:19:03.869472Z",
     "iopub.status.busy": "2024-04-30T11:19:03.869034Z",
     "iopub.status.idle": "2024-04-30T11:19:03.878900Z",
     "shell.execute_reply": "2024-04-30T11:19:03.877160Z",
     "shell.execute_reply.started": "2024-04-30T11:19:03.869442Z"
    },
    "papermill": {
     "duration": null,
     "end_time": null,
     "exception": null,
     "start_time": null,
     "status": "pending"
    },
    "tags": []
   },
   "outputs": [],
   "source": [
    "a*2"
   ]
  },
  {
   "cell_type": "code",
   "execution_count": null,
   "id": "1b2e4f94",
   "metadata": {
    "execution": {
     "iopub.execute_input": "2024-04-30T11:19:21.322354Z",
     "iopub.status.busy": "2024-04-30T11:19:21.321912Z",
     "iopub.status.idle": "2024-04-30T11:19:21.332234Z",
     "shell.execute_reply": "2024-04-30T11:19:21.330657Z",
     "shell.execute_reply.started": "2024-04-30T11:19:21.322321Z"
    },
    "papermill": {
     "duration": null,
     "end_time": null,
     "exception": null,
     "start_time": null,
     "status": "pending"
    },
    "tags": []
   },
   "outputs": [],
   "source": [
    "a**2"
   ]
  },
  {
   "cell_type": "code",
   "execution_count": null,
   "id": "6503b74a",
   "metadata": {
    "execution": {
     "iopub.execute_input": "2024-04-30T11:19:42.462649Z",
     "iopub.status.busy": "2024-04-30T11:19:42.462172Z",
     "iopub.status.idle": "2024-04-30T11:19:42.469405Z",
     "shell.execute_reply": "2024-04-30T11:19:42.468534Z",
     "shell.execute_reply.started": "2024-04-30T11:19:42.462615Z"
    },
    "papermill": {
     "duration": null,
     "end_time": null,
     "exception": null,
     "start_time": null,
     "status": "pending"
    },
    "tags": []
   },
   "outputs": [],
   "source": [
    "a/2"
   ]
  },
  {
   "cell_type": "code",
   "execution_count": null,
   "id": "f95f02b5",
   "metadata": {
    "execution": {
     "iopub.execute_input": "2024-04-30T11:20:06.786379Z",
     "iopub.status.busy": "2024-04-30T11:20:06.785453Z",
     "iopub.status.idle": "2024-04-30T11:20:06.791801Z",
     "shell.execute_reply": "2024-04-30T11:20:06.790963Z",
     "shell.execute_reply.started": "2024-04-30T11:20:06.786343Z"
    },
    "papermill": {
     "duration": null,
     "end_time": null,
     "exception": null,
     "start_time": null,
     "status": "pending"
    },
    "tags": []
   },
   "outputs": [],
   "source": [
    "b = np.array([6,7,8,9,10]) \n",
    "print(b)"
   ]
  },
  {
   "cell_type": "code",
   "execution_count": null,
   "id": "cd87581b",
   "metadata": {
    "execution": {
     "iopub.execute_input": "2024-04-30T11:21:04.983587Z",
     "iopub.status.busy": "2024-04-30T11:21:04.982438Z",
     "iopub.status.idle": "2024-04-30T11:21:04.991318Z",
     "shell.execute_reply": "2024-04-30T11:21:04.989950Z",
     "shell.execute_reply.started": "2024-04-30T11:21:04.983549Z"
    },
    "papermill": {
     "duration": null,
     "end_time": null,
     "exception": null,
     "start_time": null,
     "status": "pending"
    },
    "tags": []
   },
   "outputs": [],
   "source": [
    "a+b"
   ]
  },
  {
   "cell_type": "code",
   "execution_count": null,
   "id": "4467b3fa",
   "metadata": {
    "execution": {
     "iopub.execute_input": "2024-04-30T11:21:31.316876Z",
     "iopub.status.busy": "2024-04-30T11:21:31.316411Z",
     "iopub.status.idle": "2024-04-30T11:21:31.325390Z",
     "shell.execute_reply": "2024-04-30T11:21:31.323625Z",
     "shell.execute_reply.started": "2024-04-30T11:21:31.316844Z"
    },
    "papermill": {
     "duration": null,
     "end_time": null,
     "exception": null,
     "start_time": null,
     "status": "pending"
    },
    "tags": []
   },
   "outputs": [],
   "source": [
    "a-b"
   ]
  },
  {
   "cell_type": "code",
   "execution_count": null,
   "id": "4706cf1d",
   "metadata": {
    "papermill": {
     "duration": null,
     "end_time": null,
     "exception": null,
     "start_time": null,
     "status": "pending"
    },
    "tags": []
   },
   "outputs": [],
   "source": [
    "a/b"
   ]
  },
  {
   "cell_type": "code",
   "execution_count": null,
   "id": "f9ee6fd1",
   "metadata": {
    "execution": {
     "iopub.execute_input": "2024-04-30T11:22:21.766732Z",
     "iopub.status.busy": "2024-04-30T11:22:21.766317Z",
     "iopub.status.idle": "2024-04-30T11:22:21.775212Z",
     "shell.execute_reply": "2024-04-30T11:22:21.773758Z",
     "shell.execute_reply.started": "2024-04-30T11:22:21.766696Z"
    },
    "papermill": {
     "duration": null,
     "end_time": null,
     "exception": null,
     "start_time": null,
     "status": "pending"
    },
    "tags": []
   },
   "outputs": [],
   "source": [
    "a*b"
   ]
  },
  {
   "cell_type": "code",
   "execution_count": null,
   "id": "2bf37e3f",
   "metadata": {
    "execution": {
     "iopub.execute_input": "2024-04-30T11:22:15.937906Z",
     "iopub.status.busy": "2024-04-30T11:22:15.937449Z",
     "iopub.status.idle": "2024-04-30T11:22:15.946105Z",
     "shell.execute_reply": "2024-04-30T11:22:15.944718Z",
     "shell.execute_reply.started": "2024-04-30T11:22:15.937874Z"
    },
    "papermill": {
     "duration": null,
     "end_time": null,
     "exception": null,
     "start_time": null,
     "status": "pending"
    },
    "tags": []
   },
   "outputs": [],
   "source": [
    "b**a"
   ]
  },
  {
   "cell_type": "code",
   "execution_count": null,
   "id": "057e9d9a",
   "metadata": {
    "execution": {
     "iopub.execute_input": "2024-04-30T11:24:48.561603Z",
     "iopub.status.busy": "2024-04-30T11:24:48.561090Z",
     "iopub.status.idle": "2024-04-30T11:24:48.568391Z",
     "shell.execute_reply": "2024-04-30T11:24:48.567071Z",
     "shell.execute_reply.started": "2024-04-30T11:24:48.561566Z"
    },
    "papermill": {
     "duration": null,
     "end_time": null,
     "exception": null,
     "start_time": null,
     "status": "pending"
    },
    "tags": []
   },
   "outputs": [],
   "source": [
    "#Perkalian Matrik pada Numpy\n",
    "a= np.array([[1,2,3,4], [5,6,7,8]]) \n",
    "print(a)"
   ]
  },
  {
   "cell_type": "code",
   "execution_count": null,
   "id": "29fcb9d9",
   "metadata": {
    "execution": {
     "iopub.execute_input": "2024-04-30T11:26:11.893725Z",
     "iopub.status.busy": "2024-04-30T11:26:11.892707Z",
     "iopub.status.idle": "2024-04-30T11:26:11.900390Z",
     "shell.execute_reply": "2024-04-30T11:26:11.899345Z",
     "shell.execute_reply.started": "2024-04-30T11:26:11.893675Z"
    },
    "papermill": {
     "duration": null,
     "end_time": null,
     "exception": null,
     "start_time": null,
     "status": "pending"
    },
    "tags": []
   },
   "outputs": [],
   "source": [
    "b = np.array([[9,10,11,12], [13,14,15,16]]) \n",
    "print(b)"
   ]
  },
  {
   "cell_type": "code",
   "execution_count": null,
   "id": "594b373b",
   "metadata": {
    "execution": {
     "iopub.execute_input": "2024-04-30T11:26:45.840391Z",
     "iopub.status.busy": "2024-04-30T11:26:45.839982Z",
     "iopub.status.idle": "2024-04-30T11:26:45.848093Z",
     "shell.execute_reply": "2024-04-30T11:26:45.846869Z",
     "shell.execute_reply.started": "2024-04-30T11:26:45.840351Z"
    },
    "papermill": {
     "duration": null,
     "end_time": null,
     "exception": null,
     "start_time": null,
     "status": "pending"
    },
    "tags": []
   },
   "outputs": [],
   "source": [
    "c = a*b\n",
    "print(c)"
   ]
  },
  {
   "cell_type": "code",
   "execution_count": null,
   "id": "279b9c80",
   "metadata": {
    "execution": {
     "iopub.execute_input": "2024-04-30T11:58:18.899103Z",
     "iopub.status.busy": "2024-04-30T11:58:18.898685Z",
     "iopub.status.idle": "2024-04-30T11:58:18.906285Z",
     "shell.execute_reply": "2024-04-30T11:58:18.904814Z",
     "shell.execute_reply.started": "2024-04-30T11:58:18.899075Z"
    },
    "papermill": {
     "duration": null,
     "end_time": null,
     "exception": null,
     "start_time": null,
     "status": "pending"
    },
    "tags": []
   },
   "outputs": [],
   "source": [
    "e= np.array([[1, 16], [13,19], [3,14], [12,19]]) \n",
    "print(e)"
   ]
  },
  {
   "cell_type": "code",
   "execution_count": null,
   "id": "445e6e30",
   "metadata": {
    "execution": {
     "iopub.execute_input": "2024-04-30T11:58:22.548598Z",
     "iopub.status.busy": "2024-04-30T11:58:22.548128Z",
     "iopub.status.idle": "2024-04-30T11:58:22.554193Z",
     "shell.execute_reply": "2024-04-30T11:58:22.553262Z",
     "shell.execute_reply.started": "2024-04-30T11:58:22.548563Z"
    },
    "papermill": {
     "duration": null,
     "end_time": null,
     "exception": null,
     "start_time": null,
     "status": "pending"
    },
    "tags": []
   },
   "outputs": [],
   "source": [
    "f = np.matmul(a,e) \n",
    "print(f)"
   ]
  },
  {
   "cell_type": "code",
   "execution_count": null,
   "id": "15c14b2e",
   "metadata": {
    "execution": {
     "iopub.execute_input": "2024-04-30T11:46:14.349489Z",
     "iopub.status.busy": "2024-04-30T11:46:14.349111Z",
     "iopub.status.idle": "2024-04-30T11:46:14.356356Z",
     "shell.execute_reply": "2024-04-30T11:46:14.354941Z",
     "shell.execute_reply.started": "2024-04-30T11:46:14.349459Z"
    },
    "papermill": {
     "duration": null,
     "end_time": null,
     "exception": null,
     "start_time": null,
     "status": "pending"
    },
    "tags": []
   },
   "outputs": [],
   "source": [
    "#2.20.7 min, max dan sum pada Numpy\n",
    "a = np.array([[9,2,3,3], [5,2,1,4], [1,0,11,18]])\n",
    "print(a)"
   ]
  },
  {
   "cell_type": "code",
   "execution_count": null,
   "id": "2770e617",
   "metadata": {
    "execution": {
     "iopub.execute_input": "2024-04-30T11:46:24.626299Z",
     "iopub.status.busy": "2024-04-30T11:46:24.625902Z",
     "iopub.status.idle": "2024-04-30T11:46:24.635102Z",
     "shell.execute_reply": "2024-04-30T11:46:24.633097Z",
     "shell.execute_reply.started": "2024-04-30T11:46:24.626268Z"
    },
    "papermill": {
     "duration": null,
     "end_time": null,
     "exception": null,
     "start_time": null,
     "status": "pending"
    },
    "tags": []
   },
   "outputs": [],
   "source": [
    "b = np.min(a) \n",
    "print(b)"
   ]
  },
  {
   "cell_type": "code",
   "execution_count": null,
   "id": "cd138764",
   "metadata": {
    "execution": {
     "iopub.execute_input": "2024-04-30T11:46:28.612218Z",
     "iopub.status.busy": "2024-04-30T11:46:28.611856Z",
     "iopub.status.idle": "2024-04-30T11:46:28.618563Z",
     "shell.execute_reply": "2024-04-30T11:46:28.617004Z",
     "shell.execute_reply.started": "2024-04-30T11:46:28.612173Z"
    },
    "papermill": {
     "duration": null,
     "end_time": null,
     "exception": null,
     "start_time": null,
     "status": "pending"
    },
    "tags": []
   },
   "outputs": [],
   "source": [
    "c = np.min(a,axis=0) \n",
    "print(c)"
   ]
  },
  {
   "cell_type": "code",
   "execution_count": null,
   "id": "9025494c",
   "metadata": {
    "execution": {
     "iopub.execute_input": "2024-04-30T11:46:31.277815Z",
     "iopub.status.busy": "2024-04-30T11:46:31.277434Z",
     "iopub.status.idle": "2024-04-30T11:46:31.285149Z",
     "shell.execute_reply": "2024-04-30T11:46:31.283098Z",
     "shell.execute_reply.started": "2024-04-30T11:46:31.277787Z"
    },
    "papermill": {
     "duration": null,
     "end_time": null,
     "exception": null,
     "start_time": null,
     "status": "pending"
    },
    "tags": []
   },
   "outputs": [],
   "source": [
    "d = np.min(a,axis=1) \n",
    "print(d)"
   ]
  },
  {
   "cell_type": "code",
   "execution_count": null,
   "id": "03b7fbad",
   "metadata": {
    "execution": {
     "iopub.execute_input": "2024-04-30T11:46:34.407345Z",
     "iopub.status.busy": "2024-04-30T11:46:34.405907Z",
     "iopub.status.idle": "2024-04-30T11:46:34.413491Z",
     "shell.execute_reply": "2024-04-30T11:46:34.412213Z",
     "shell.execute_reply.started": "2024-04-30T11:46:34.407297Z"
    },
    "papermill": {
     "duration": null,
     "end_time": null,
     "exception": null,
     "start_time": null,
     "status": "pending"
    },
    "tags": []
   },
   "outputs": [],
   "source": [
    "e = np.max(a) \n",
    "print(e)"
   ]
  },
  {
   "cell_type": "code",
   "execution_count": null,
   "id": "f535f966",
   "metadata": {
    "execution": {
     "iopub.execute_input": "2024-04-30T11:46:44.870126Z",
     "iopub.status.busy": "2024-04-30T11:46:44.868798Z",
     "iopub.status.idle": "2024-04-30T11:46:44.876890Z",
     "shell.execute_reply": "2024-04-30T11:46:44.875313Z",
     "shell.execute_reply.started": "2024-04-30T11:46:44.870085Z"
    },
    "papermill": {
     "duration": null,
     "end_time": null,
     "exception": null,
     "start_time": null,
     "status": "pending"
    },
    "tags": []
   },
   "outputs": [],
   "source": [
    "f = np.max(a,axis=0) \n",
    "print(f)"
   ]
  },
  {
   "cell_type": "code",
   "execution_count": null,
   "id": "cde569da",
   "metadata": {
    "execution": {
     "iopub.execute_input": "2024-04-30T11:46:44.879521Z",
     "iopub.status.busy": "2024-04-30T11:46:44.879071Z",
     "iopub.status.idle": "2024-04-30T11:46:44.892737Z",
     "shell.execute_reply": "2024-04-30T11:46:44.891095Z",
     "shell.execute_reply.started": "2024-04-30T11:46:44.879484Z"
    },
    "papermill": {
     "duration": null,
     "end_time": null,
     "exception": null,
     "start_time": null,
     "status": "pending"
    },
    "tags": []
   },
   "outputs": [],
   "source": [
    "g = np.max(a,axis=1) \n",
    "print(g)"
   ]
  },
  {
   "cell_type": "code",
   "execution_count": null,
   "id": "24e1a063",
   "metadata": {
    "execution": {
     "iopub.execute_input": "2024-04-30T11:36:15.677807Z",
     "iopub.status.busy": "2024-04-30T11:36:15.677416Z",
     "iopub.status.idle": "2024-04-30T11:36:15.684339Z",
     "shell.execute_reply": "2024-04-30T11:36:15.683022Z",
     "shell.execute_reply.started": "2024-04-30T11:36:15.677778Z"
    },
    "papermill": {
     "duration": null,
     "end_time": null,
     "exception": null,
     "start_time": null,
     "status": "pending"
    },
    "tags": []
   },
   "outputs": [],
   "source": [
    "h = np.sum(a) \n",
    "print(h)"
   ]
  },
  {
   "cell_type": "code",
   "execution_count": null,
   "id": "0eacfc16",
   "metadata": {
    "execution": {
     "iopub.execute_input": "2024-04-30T11:52:49.617788Z",
     "iopub.status.busy": "2024-04-30T11:52:49.617363Z",
     "iopub.status.idle": "2024-04-30T11:52:49.624481Z",
     "shell.execute_reply": "2024-04-30T11:52:49.622900Z",
     "shell.execute_reply.started": "2024-04-30T11:52:49.617758Z"
    },
    "papermill": {
     "duration": null,
     "end_time": null,
     "exception": null,
     "start_time": null,
     "status": "pending"
    },
    "tags": []
   },
   "outputs": [],
   "source": [
    "h = np.sum(a,axis=0) \n",
    "print(h)"
   ]
  },
  {
   "cell_type": "code",
   "execution_count": null,
   "id": "df102917",
   "metadata": {
    "execution": {
     "iopub.execute_input": "2024-04-30T11:52:39.823292Z",
     "iopub.status.busy": "2024-04-30T11:52:39.822821Z",
     "iopub.status.idle": "2024-04-30T11:52:39.829273Z",
     "shell.execute_reply": "2024-04-30T11:52:39.828363Z",
     "shell.execute_reply.started": "2024-04-30T11:52:39.823257Z"
    },
    "papermill": {
     "duration": null,
     "end_time": null,
     "exception": null,
     "start_time": null,
     "status": "pending"
    },
    "tags": []
   },
   "outputs": [],
   "source": [
    "i = np.sum(a,axis=1) \n",
    "print(i)"
   ]
  }
 ],
 "metadata": {
  "kaggle": {
   "accelerator": "none",
   "dataSources": [],
   "dockerImageVersionId": 30698,
   "isGpuEnabled": false,
   "isInternetEnabled": false,
   "language": "python",
   "sourceType": "notebook"
  },
  "kernelspec": {
   "display_name": "Python 3",
   "language": "python",
   "name": "python3"
  },
  "language_info": {
   "codemirror_mode": {
    "name": "ipython",
    "version": 3
   },
   "file_extension": ".py",
   "mimetype": "text/x-python",
   "name": "python",
   "nbconvert_exporter": "python",
   "pygments_lexer": "ipython3",
   "version": "3.10.13"
  },
  "papermill": {
   "default_parameters": {},
   "duration": 4.648548,
   "end_time": "2024-04-30T12:38:00.623092",
   "environment_variables": {},
   "exception": true,
   "input_path": "__notebook__.ipynb",
   "output_path": "__notebook__.ipynb",
   "parameters": {},
   "start_time": "2024-04-30T12:37:55.974544",
   "version": "2.5.0"
  }
 },
 "nbformat": 4,
 "nbformat_minor": 5
}
