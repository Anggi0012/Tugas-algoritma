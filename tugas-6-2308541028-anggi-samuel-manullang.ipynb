{
 "cells": [
  {
   "cell_type": "code",
   "execution_count": 1,
   "id": "cf159e70",
   "metadata": {
    "execution": {
     "iopub.execute_input": "2024-04-23T12:36:37.527903Z",
     "iopub.status.busy": "2024-04-23T12:36:37.527464Z",
     "iopub.status.idle": "2024-04-23T12:36:37.544588Z",
     "shell.execute_reply": "2024-04-23T12:36:37.543493Z"
    },
    "jupyter": {
     "source_hidden": true
    },
    "papermill": {
     "duration": 0.025892,
     "end_time": "2024-04-23T12:36:37.547115",
     "exception": false,
     "start_time": "2024-04-23T12:36:37.521223",
     "status": "completed"
    },
    "scrolled": true,
    "tags": []
   },
   "outputs": [
    {
     "name": "stdout",
     "output_type": "stream",
     "text": [
      "Nilai terbesar dalam list: 97\n"
     ]
    }
   ],
   "source": [
    "list_nilai = [75, 92, 83, 88, 97, 64, 80]\n",
    "nilai_terbesar = list_nilai[0]\n",
    "for i in range(1, len(list_nilai)):\n",
    "    if list_nilai[i] > nilai_terbesar:\n",
    "        nilai_terbesar = list_nilai[i]\n",
    "print(\"Nilai terbesar dalam list:\", nilai_terbesar)"
   ]
  },
  {
   "cell_type": "code",
   "execution_count": 2,
   "id": "3747fed0",
   "metadata": {
    "execution": {
     "iopub.execute_input": "2024-04-23T12:36:37.555883Z",
     "iopub.status.busy": "2024-04-23T12:36:37.554754Z",
     "iopub.status.idle": "2024-04-23T12:36:37.948972Z",
     "shell.execute_reply": "2024-04-23T12:36:37.947337Z"
    },
    "papermill": {
     "duration": 0.400722,
     "end_time": "2024-04-23T12:36:37.951291",
     "exception": true,
     "start_time": "2024-04-23T12:36:37.550569",
     "status": "failed"
    },
    "tags": []
   },
   "outputs": [
    {
     "name": "stdout",
     "output_type": "stream",
     "text": [
      "[[1, 2, 0, 9], [5, 6, 9, 3, 4], [2, 2, 3, 5, 6], [3, 4, 6, 8, 9]]\n"
     ]
    },
    {
     "ename": "NameError",
     "evalue": "name 'matriks' is not defined",
     "output_type": "error",
     "traceback": [
      "\u001b[0;31m---------------------------------------------------------------------------\u001b[0m",
      "\u001b[0;31mNameError\u001b[0m                                 Traceback (most recent call last)",
      "Cell \u001b[0;32mIn[2], line 3\u001b[0m\n\u001b[1;32m      1\u001b[0m matrik \u001b[38;5;241m=\u001b[39m [ [ \u001b[38;5;241m1\u001b[39m,\u001b[38;5;241m2\u001b[39m,\u001b[38;5;241m0\u001b[39m,\u001b[38;5;241m9\u001b[39m],[\u001b[38;5;241m5\u001b[39m,\u001b[38;5;241m6\u001b[39m,\u001b[38;5;241m9\u001b[39m,\u001b[38;5;241m3\u001b[39m,\u001b[38;5;241m4\u001b[39m],[\u001b[38;5;241m2\u001b[39m,\u001b[38;5;241m2\u001b[39m,\u001b[38;5;241m3\u001b[39m,\u001b[38;5;241m5\u001b[39m,\u001b[38;5;241m6\u001b[39m],[\u001b[38;5;241m3\u001b[39m,\u001b[38;5;241m4\u001b[39m,\u001b[38;5;241m6\u001b[39m,\u001b[38;5;241m8\u001b[39m,\u001b[38;5;241m9\u001b[39m] ]\n\u001b[1;32m      2\u001b[0m \u001b[38;5;28mprint\u001b[39m (matrik )\n\u001b[0;32m----> 3\u001b[0m \u001b[43mmatriks\u001b[49m [\u001b[38;5;241m2\u001b[39m][\u001b[38;5;241m1\u001b[39m]\n",
      "\u001b[0;31mNameError\u001b[0m: name 'matriks' is not defined"
     ]
    }
   ],
   "source": [
    "matrik = [ [ 1,2,0,9],[5,6,9,3,4],[2,2,3,5,6],[3,4,6,8,9] ]\n",
    "print (matrik )\n",
    "matriks [2][1]"
   ]
  },
  {
   "cell_type": "code",
   "execution_count": null,
   "id": "75389653",
   "metadata": {
    "execution": {
     "iopub.execute_input": "2024-04-17T05:09:32.692675Z",
     "iopub.status.busy": "2024-04-17T05:09:32.692061Z",
     "iopub.status.idle": "2024-04-17T05:09:32.697523Z",
     "shell.execute_reply": "2024-04-17T05:09:32.696617Z",
     "shell.execute_reply.started": "2024-04-17T05:09:32.692643Z"
    },
    "papermill": {
     "duration": null,
     "end_time": null,
     "exception": null,
     "start_time": null,
     "status": "pending"
    },
    "tags": []
   },
   "outputs": [],
   "source": [
    "for baris in matrik: \n",
    "    print(baris) \n",
    "    for kolom in baris: \n",
    "        print(kolom)"
   ]
  },
  {
   "cell_type": "code",
   "execution_count": null,
   "id": "47df9507",
   "metadata": {
    "execution": {
     "iopub.execute_input": "2024-04-23T12:15:47.813354Z",
     "iopub.status.busy": "2024-04-23T12:15:47.812918Z",
     "iopub.status.idle": "2024-04-23T12:15:47.822230Z",
     "shell.execute_reply": "2024-04-23T12:15:47.820902Z",
     "shell.execute_reply.started": "2024-04-23T12:15:47.813319Z"
    },
    "papermill": {
     "duration": null,
     "end_time": null,
     "exception": null,
     "start_time": null,
     "status": "pending"
    },
    "tags": []
   },
   "outputs": [],
   "source": [
    "siswa = {\n",
    "    \"nama\": \"Anggi\",\n",
    "    \"kelas\": 10,\n",
    "    \"nilai\": {\n",
    "        \"algoritma\": 90,\n",
    "        \"strukbar\": 85,\n",
    "        \"kalkulus\": 88\n",
    "    }\n",
    "}\n",
    "siswa[\"umur\"] = 19\n",
    "siswa[\"nilai\"][\"algoritma\"] = 95\n",
    "del siswa[\"kelas\"]\n",
    "print(\"Data Siswa:\")\n",
    "for key, value in siswa.items():\n",
    "    if isinstance(value, dict):\n",
    "        print(f\"{key}:\")\n",
    "        for subjek, nilai in value.items():\n",
    "            print(f\"  {subjek}: {nilai}\")\n",
    "    else:\n",
    "        print(f\"{key}: {value}\")"
   ]
  },
  {
   "cell_type": "code",
   "execution_count": null,
   "id": "9715d24a",
   "metadata": {
    "execution": {
     "iopub.execute_input": "2024-04-23T12:27:55.332736Z",
     "iopub.status.busy": "2024-04-23T12:27:55.332363Z",
     "iopub.status.idle": "2024-04-23T12:28:19.597230Z",
     "shell.execute_reply": "2024-04-23T12:28:19.596322Z",
     "shell.execute_reply.started": "2024-04-23T12:27:55.332708Z"
    },
    "papermill": {
     "duration": null,
     "end_time": null,
     "exception": null,
     "start_time": null,
     "status": "pending"
    },
    "tags": []
   },
   "outputs": [],
   "source": [
    "def hitung_luas_trapesium(alas_atas, alas_bawah, tinggi):\n",
    "    return 0.5 * (alas_atas + alas_bawah) * tinggi\n",
    "def main():\n",
    "    print(\"Program untuk menghitung luas trapesium\")\n",
    "    alas_atas = float(input(\"Masukkan panjang alas atas trapesium: \"))\n",
    "    alas_bawah = float(input(\"Masukkan panjang alas bawah trapesium: \"))\n",
    "    tinggi = float(input(\"Masukkan tinggi trapesium: \"))\n",
    "    luas = hitung_luas_trapesium(alas_atas, alas_bawah, tinggi)\n",
    "    print(\"Luas trapesium adalah:\", luas)\n",
    "if __name__ == \"__main__\":\n",
    "    main()"
   ]
  }
 ],
 "metadata": {
  "kaggle": {
   "accelerator": "none",
   "dataSources": [],
   "dockerImageVersionId": 30684,
   "isGpuEnabled": false,
   "isInternetEnabled": false,
   "language": "python",
   "sourceType": "notebook"
  },
  "kernelspec": {
   "display_name": "Python 3",
   "language": "python",
   "name": "python3"
  },
  "language_info": {
   "codemirror_mode": {
    "name": "ipython",
    "version": 3
   },
   "file_extension": ".py",
   "mimetype": "text/x-python",
   "name": "python",
   "nbconvert_exporter": "python",
   "pygments_lexer": "ipython3",
   "version": "3.10.13"
  },
  "papermill": {
   "default_parameters": {},
   "duration": 3.869862,
   "end_time": "2024-04-23T12:36:38.376243",
   "environment_variables": {},
   "exception": true,
   "input_path": "__notebook__.ipynb",
   "output_path": "__notebook__.ipynb",
   "parameters": {},
   "start_time": "2024-04-23T12:36:34.506381",
   "version": "2.5.0"
  }
 },
 "nbformat": 4,
 "nbformat_minor": 5
}
