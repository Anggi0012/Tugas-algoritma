{
 "cells": [
  {
   "cell_type": "code",
   "execution_count": 1,
   "id": "0d9652cd",
   "metadata": {
    "execution": {
     "iopub.execute_input": "2024-06-18T11:53:16.824782Z",
     "iopub.status.busy": "2024-06-18T11:53:16.823510Z",
     "iopub.status.idle": "2024-06-18T11:53:16.841423Z",
     "shell.execute_reply": "2024-06-18T11:53:16.840097Z"
    },
    "papermill": {
     "duration": 0.024934,
     "end_time": "2024-06-18T11:53:16.844339",
     "exception": false,
     "start_time": "2024-06-18T11:53:16.819405",
     "status": "completed"
    },
    "tags": []
   },
   "outputs": [
    {
     "name": "stdout",
     "output_type": "stream",
     "text": [
      " =======Menghitung logaritma SMP=======\n",
      "Diketahui x1 = -1 + 5^1/2 / 2\n",
      "          x2 = -1 - 5^1/2 / 2\n",
      " Maka berapa log(x^2024-x^2025)/log(x(1-x)\n",
      " Maka hasilnya adalah\n",
      "{675.3333333333331}\n"
     ]
    }
   ],
   "source": [
    "print(\" =======Menghitung logaritma SMP=======\")\n",
    "print( \"Diketahui x1 = -1 + 5^1/2 / 2\")\n",
    "print( \"          x2 = -1 - 5^1/2 / 2\")\n",
    "print( \" Maka berapa log(x^2024-x^2025)/log(x(1-x)\")\n",
    "import math\n",
    "# Fungsi untuk menghitung logaritma basis 10\n",
    "def log(x):\n",
    "    return math.log10(x)\n",
    "# Nilai x\n",
    "x = (-1 + math.sqrt(5)) / 2\n",
    "# Menghitung x^2024 dan x^2025 menggunakan logaritma untuk menghindari masalah presisi\n",
    "log_28_x_2024 = 2024 * log(x)\n",
    "log_28_x_2025 = 2025 * log(x)\n",
    "# Menghitung log(x^2024 - x^2025) langsung dalam bentuk logaritma\n",
    "log_a = log_28_x_2024 + log(1 - x)\n",
    "# Menghitung log(x * (1 - x))\n",
    "log_b = log(x) + log(1 - x)\n",
    "# Hasil akhir\n",
    "hasil = log_a / log_b\n",
    "print( \" Maka hasilnya adalah\" )\n",
    "print({hasil})"
   ]
  }
 ],
 "metadata": {
  "kaggle": {
   "accelerator": "none",
   "dataSources": [],
   "dockerImageVersionId": 30732,
   "isGpuEnabled": false,
   "isInternetEnabled": false,
   "language": "python",
   "sourceType": "notebook"
  },
  "kernelspec": {
   "display_name": "Python 3",
   "language": "python",
   "name": "python3"
  },
  "language_info": {
   "codemirror_mode": {
    "name": "ipython",
    "version": 3
   },
   "file_extension": ".py",
   "mimetype": "text/x-python",
   "name": "python",
   "nbconvert_exporter": "python",
   "pygments_lexer": "ipython3",
   "version": "3.10.13"
  },
  "papermill": {
   "default_parameters": {},
   "duration": 3.400279,
   "end_time": "2024-06-18T11:53:17.267983",
   "environment_variables": {},
   "exception": null,
   "input_path": "__notebook__.ipynb",
   "output_path": "__notebook__.ipynb",
   "parameters": {},
   "start_time": "2024-06-18T11:53:13.867704",
   "version": "2.5.0"
  }
 },
 "nbformat": 4,
 "nbformat_minor": 5
}
