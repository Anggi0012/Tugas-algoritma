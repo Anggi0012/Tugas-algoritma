{
 "cells": [
  {
   "cell_type": "code",
   "execution_count": 1,
   "id": "64a6457b",
   "metadata": {
    "execution": {
     "iopub.execute_input": "2024-03-27T05:20:02.491173Z",
     "iopub.status.busy": "2024-03-27T05:20:02.490197Z",
     "iopub.status.idle": "2024-03-27T05:20:02.874567Z",
     "shell.execute_reply": "2024-03-27T05:20:02.873480Z"
    },
    "papermill": {
     "duration": 0.390372,
     "end_time": "2024-03-27T05:20:02.876456",
     "exception": true,
     "start_time": "2024-03-27T05:20:02.486084",
     "status": "failed"
    },
    "tags": []
   },
   "outputs": [
    {
     "ename": "StdinNotImplementedError",
     "evalue": "raw_input was called, but this frontend does not support input requests.",
     "output_type": "error",
     "traceback": [
      "\u001b[0;31m---------------------------------------------------------------------------\u001b[0m",
      "\u001b[0;31mStdinNotImplementedError\u001b[0m                  Traceback (most recent call last)",
      "Cell \u001b[0;32mIn[1], line 1\u001b[0m\n\u001b[0;32m----> 1\u001b[0m bilangan1 \u001b[38;5;241m=\u001b[39m \u001b[38;5;28mfloat\u001b[39m(\u001b[38;5;28;43minput\u001b[39;49m\u001b[43m(\u001b[49m\u001b[38;5;124;43m\"\u001b[39;49m\u001b[38;5;124;43mMasukkan bilangan pertama: \u001b[39;49m\u001b[38;5;124;43m\"\u001b[39;49m\u001b[43m)\u001b[49m)\n\u001b[1;32m      2\u001b[0m bilangan2 \u001b[38;5;241m=\u001b[39m \u001b[38;5;28mfloat\u001b[39m(\u001b[38;5;28minput\u001b[39m(\u001b[38;5;124m\"\u001b[39m\u001b[38;5;124mMasukkan bilangan kedua: \u001b[39m\u001b[38;5;124m\"\u001b[39m))\n\u001b[1;32m      4\u001b[0m \u001b[38;5;28;01mif\u001b[39;00m bilangan1 \u001b[38;5;241m>\u001b[39m bilangan2:\n",
      "File \u001b[0;32m/opt/conda/lib/python3.10/site-packages/ipykernel/kernelbase.py:1261\u001b[0m, in \u001b[0;36mKernel.raw_input\u001b[0;34m(self, prompt)\u001b[0m\n\u001b[1;32m   1259\u001b[0m \u001b[38;5;28;01mif\u001b[39;00m \u001b[38;5;129;01mnot\u001b[39;00m \u001b[38;5;28mself\u001b[39m\u001b[38;5;241m.\u001b[39m_allow_stdin:\n\u001b[1;32m   1260\u001b[0m     msg \u001b[38;5;241m=\u001b[39m \u001b[38;5;124m\"\u001b[39m\u001b[38;5;124mraw_input was called, but this frontend does not support input requests.\u001b[39m\u001b[38;5;124m\"\u001b[39m\n\u001b[0;32m-> 1261\u001b[0m     \u001b[38;5;28;01mraise\u001b[39;00m StdinNotImplementedError(msg)\n\u001b[1;32m   1262\u001b[0m \u001b[38;5;28;01mreturn\u001b[39;00m \u001b[38;5;28mself\u001b[39m\u001b[38;5;241m.\u001b[39m_input_request(\n\u001b[1;32m   1263\u001b[0m     \u001b[38;5;28mstr\u001b[39m(prompt),\n\u001b[1;32m   1264\u001b[0m     \u001b[38;5;28mself\u001b[39m\u001b[38;5;241m.\u001b[39m_parent_ident[\u001b[38;5;124m\"\u001b[39m\u001b[38;5;124mshell\u001b[39m\u001b[38;5;124m\"\u001b[39m],\n\u001b[1;32m   1265\u001b[0m     \u001b[38;5;28mself\u001b[39m\u001b[38;5;241m.\u001b[39mget_parent(\u001b[38;5;124m\"\u001b[39m\u001b[38;5;124mshell\u001b[39m\u001b[38;5;124m\"\u001b[39m),\n\u001b[1;32m   1266\u001b[0m     password\u001b[38;5;241m=\u001b[39m\u001b[38;5;28;01mFalse\u001b[39;00m,\n\u001b[1;32m   1267\u001b[0m )\n",
      "\u001b[0;31mStdinNotImplementedError\u001b[0m: raw_input was called, but this frontend does not support input requests."
     ]
    }
   ],
   "source": [
    "bilangan1 = float(input(\"Masukkan bilangan pertama: \"))\n",
    "bilangan2 = float(input(\"Masukkan bilangan kedua: \"))\n",
    "\n",
    "if bilangan1 > bilangan2:\n",
    "    print(\"Bilangan pertama ({}) lebih besar dari bilangan kedua ({}).\".format(bilangan1, bilangan2))\n",
    "elif bilangan1 < bilangan2:\n",
    "    print(\"Bilangan kedua ({}) lebih besar dari bilangan pertama ({}).\".format(bilangan2, bilangan1))\n",
    "else:\n",
    "    print(\"Bilangan pertama dan bilangan kedua sama besar, yaitu\", bilangan1)"
   ]
  },
  {
   "cell_type": "code",
   "execution_count": null,
   "id": "ab2a60f8",
   "metadata": {
    "execution": {
     "iopub.execute_input": "2024-03-27T04:45:50.668666Z",
     "iopub.status.busy": "2024-03-27T04:45:50.668297Z",
     "iopub.status.idle": "2024-03-27T04:45:54.281510Z",
     "shell.execute_reply": "2024-03-27T04:45:54.280406Z",
     "shell.execute_reply.started": "2024-03-27T04:45:50.668636Z"
    },
    "papermill": {
     "duration": null,
     "end_time": null,
     "exception": null,
     "start_time": null,
     "status": "pending"
    },
    "tags": []
   },
   "outputs": [],
   "source": [
    "print(\"==========PEMILU 2024==========\")\n",
    "b = float(input(\"berapa usia anda\"))\n",
    "if b >= 18 :\n",
    "    print (\" Anda cukup umur untuk memilih \")\n",
    "    print (\"kerja bagus\")\n",
    "else :\n",
    "    print (\"Belum cukup umur kau dek, belajar yang bener dulu sono\")"
   ]
  },
  {
   "cell_type": "code",
   "execution_count": null,
   "id": "7ee95f08",
   "metadata": {
    "execution": {
     "iopub.execute_input": "2024-03-27T05:18:06.312094Z",
     "iopub.status.busy": "2024-03-27T05:18:06.311377Z",
     "iopub.status.idle": "2024-03-27T05:18:10.537085Z",
     "shell.execute_reply": "2024-03-27T05:18:10.536067Z",
     "shell.execute_reply.started": "2024-03-27T05:18:06.312059Z"
    },
    "papermill": {
     "duration": null,
     "end_time": null,
     "exception": null,
     "start_time": null,
     "status": "pending"
    },
    "tags": []
   },
   "outputs": [],
   "source": [
    "print(\"=========MENGHITUNG FAKTORIAL=========\")\n",
    "print(\"======================================\")\n",
    "bilangan = int(input(\"Masukkan sebuah bilangan: \"))\n",
    "if bilangan > 1000 :\n",
    "    print (\"lebih dari 1000 ? yang benar aje rugi dong.\")\n",
    "else :\n",
    "    faktorial = 1\n",
    "    i = 1\n",
    "    while i <= bilangan:\n",
    "        faktorial *= i\n",
    "        i += 1\n",
    "    print(\"Faktorial dari\", bilangan, \"adalah\", faktorial)\n",
    "    print(\"kenapa hasilnya segitu ? ya ndak tau kok tanya saya\")\n",
    "print(\"======================================\")"
   ]
  }
 ],
 "metadata": {
  "kaggle": {
   "accelerator": "none",
   "dataSources": [],
   "dockerImageVersionId": 30673,
   "isGpuEnabled": false,
   "isInternetEnabled": false,
   "language": "python",
   "sourceType": "notebook"
  },
  "kernelspec": {
   "display_name": "Python 3",
   "language": "python",
   "name": "python3"
  },
  "language_info": {
   "codemirror_mode": {
    "name": "ipython",
    "version": 3
   },
   "file_extension": ".py",
   "mimetype": "text/x-python",
   "name": "python",
   "nbconvert_exporter": "python",
   "pygments_lexer": "ipython3",
   "version": "3.10.13"
  },
  "papermill": {
   "default_parameters": {},
   "duration": 3.639171,
   "end_time": "2024-03-27T05:20:03.301270",
   "environment_variables": {},
   "exception": true,
   "input_path": "__notebook__.ipynb",
   "output_path": "__notebook__.ipynb",
   "parameters": {},
   "start_time": "2024-03-27T05:19:59.662099",
   "version": "2.5.0"
  }
 },
 "nbformat": 4,
 "nbformat_minor": 5
}
