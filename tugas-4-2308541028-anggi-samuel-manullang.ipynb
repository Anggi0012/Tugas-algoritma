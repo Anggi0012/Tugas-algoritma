{
 "cells": [
  {
   "cell_type": "code",
   "execution_count": 1,
   "id": "845cc53e",
   "metadata": {
    "execution": {
     "iopub.execute_input": "2024-04-16T09:07:28.656392Z",
     "iopub.status.busy": "2024-04-16T09:07:28.655555Z",
     "iopub.status.idle": "2024-04-16T09:07:28.670065Z",
     "shell.execute_reply": "2024-04-16T09:07:28.669207Z"
    },
    "papermill": {
     "duration": 0.022482,
     "end_time": "2024-04-16T09:07:28.672434",
     "exception": false,
     "start_time": "2024-04-16T09:07:28.649952",
     "status": "completed"
    },
    "tags": []
   },
   "outputs": [
    {
     "name": "stdout",
     "output_type": "stream",
     "text": [
      "List saya setelah dimodifikasi: [1, 4, 5, 6, 10]\n",
      "Elemen pertama: 1\n",
      "Panjang list: 5\n",
      "List gabungan: [1, 2, 4, 5, 6, 7, 8, 9]\n",
      "1\n",
      "4\n",
      "10\n",
      "[1, 4, 5]\n"
     ]
    }
   ],
   "source": [
    "list_saya = [1, 2, 3, 4, 5]\n",
    "list_saya.append(6)\n",
    "list_saya.remove(3)\n",
    "list_lain = [7, 8, 9]\n",
    "list_gabungan = list_saya + list_lain\n",
    "elemen_pertama = list_saya[0]\n",
    "list_saya[1] = 10\n",
    "panjang_list = len(list_saya)\n",
    "list_saya.sort()\n",
    "print(\"List saya setelah dimodifikasi:\", list_saya)\n",
    "print(\"Elemen pertama:\", elemen_pertama)\n",
    "print(\"Panjang list:\", panjang_list)\n",
    "print(\"List gabungan:\", list_gabungan)\n",
    "\n",
    "print(list_saya[0])\n",
    "print(list_saya[1])\n",
    "print(list_saya[-1])\n",
    "print(list_saya[0:3])"
   ]
  },
  {
   "cell_type": "code",
   "execution_count": 2,
   "id": "9412d482",
   "metadata": {
    "execution": {
     "iopub.execute_input": "2024-04-16T09:07:28.678971Z",
     "iopub.status.busy": "2024-04-16T09:07:28.678276Z",
     "iopub.status.idle": "2024-04-16T09:07:28.683910Z",
     "shell.execute_reply": "2024-04-16T09:07:28.682832Z"
    },
    "papermill": {
     "duration": 0.011923,
     "end_time": "2024-04-16T09:07:28.686656",
     "exception": false,
     "start_time": "2024-04-16T09:07:28.674733",
     "status": "completed"
    },
    "tags": []
   },
   "outputs": [
    {
     "name": "stdout",
     "output_type": "stream",
     "text": [
      "kucing\n",
      "anjing\n",
      "burung\n",
      "ikan\n"
     ]
    }
   ],
   "source": [
    "hewan = ['kucing', 'anjing', 'burung', 'ikan']\n",
    "for jenis in hewan:\n",
    "    print(jenis)"
   ]
  }
 ],
 "metadata": {
  "kaggle": {
   "accelerator": "none",
   "dataSources": [],
   "dockerImageVersionId": 30684,
   "isGpuEnabled": false,
   "isInternetEnabled": false,
   "language": "python",
   "sourceType": "notebook"
  },
  "kernelspec": {
   "display_name": "Python 3",
   "language": "python",
   "name": "python3"
  },
  "language_info": {
   "codemirror_mode": {
    "name": "ipython",
    "version": 3
   },
   "file_extension": ".py",
   "mimetype": "text/x-python",
   "name": "python",
   "nbconvert_exporter": "python",
   "pygments_lexer": "ipython3",
   "version": "3.10.13"
  },
  "papermill": {
   "default_parameters": {},
   "duration": 3.611325,
   "end_time": "2024-04-16T09:07:29.210421",
   "environment_variables": {},
   "exception": null,
   "input_path": "__notebook__.ipynb",
   "output_path": "__notebook__.ipynb",
   "parameters": {},
   "start_time": "2024-04-16T09:07:25.599096",
   "version": "2.5.0"
  }
 },
 "nbformat": 4,
 "nbformat_minor": 5
}
